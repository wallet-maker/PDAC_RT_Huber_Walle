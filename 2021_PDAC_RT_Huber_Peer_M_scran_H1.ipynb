{
 "cells": [
  {
   "cell_type": "markdown",
   "id": "finished-adobe",
   "metadata": {},
   "source": [
    "# plug-in_scapy_scran"
   ]
  },
  {
   "cell_type": "code",
   "execution_count": 1,
   "id": "civil-andrew",
   "metadata": {
    "ExecuteTime": {
     "end_time": "2020-04-10T14:59:57.822022Z",
     "start_time": "2020-04-10T14:59:57.819335Z"
    }
   },
   "outputs": [
    {
     "name": "stdout",
     "output_type": "stream",
     "text": [
      "Thomas Walle\n",
      "\n",
      "2021-03-08 15:10:34.973669\n"
     ]
    }
   ],
   "source": [
    "import datetime\n",
    "\n",
    "print(\"Thomas Walle\\n\")\n",
    "print(datetime.datetime.now())"
   ]
  },
  {
   "cell_type": "markdown",
   "id": "variable-spectrum",
   "metadata": {},
   "source": [
    "##### People involved\n"
   ]
  },
  {
   "cell_type": "markdown",
   "id": "amazing-france",
   "metadata": {},
   "source": [
    "- [Alejandro Jimenez-Sanchez](https://www.mskcc.org/research/ski/labs/members/alejandro-sanchez-01)\n",
    "- [Dana Pe'er](https://www.mskcc.org/research/ski/labs/dana-pe-er)"
   ]
  },
  {
   "cell_type": "markdown",
   "id": "serial-twist",
   "metadata": {},
   "source": [
    "### Aims of this script:\n",
    "<a id=\"aims\"></a>"
   ]
  },
  {
   "cell_type": "markdown",
   "id": "enclosed-carolina",
   "metadata": {},
   "source": [
    "1. [Create input for scran from scanpy](#out) <font color=green>DONE</font>\n",
    "0. [Instructions to run scran](#sctransform) <font color=green>DONE</font>\n",
    "0. [Read-in scran output to scanpy](#in) <font color=green>DONE</font>"
   ]
  },
  {
   "cell_type": "markdown",
   "id": "short-instruction",
   "metadata": {},
   "source": [
    "### References\n"
   ]
  },
  {
   "cell_type": "markdown",
   "id": "undefined-mobile",
   "metadata": {},
   "source": [
    "- [Paper](https://genomebiology.biomedcentral.com/articles/10.1186/s13059-016-0947-7)\n",
    "- [GitHub](https://github.com/MarioniLab/scran)\n",
    "- [Package](https://bioconductor.org/packages/devel/bioc/html/scran.html)\n",
    "- [Tutorial_1](https://bioconductor.org/packages/devel/bioc/vignettes/scran_final/inst/doc/scran.html)\n",
    "- [Tutorial_2](https://alexslemonade.github.io/training-modules/scRNA-seq/01-normalizing_scRNA-seq.nb.html)"
   ]
  },
  {
   "cell_type": "code",
   "execution_count": 2,
   "id": "round-infrastructure",
   "metadata": {
    "ExecuteTime": {
     "end_time": "2020-04-10T15:00:01.576328Z",
     "start_time": "2020-04-10T15:00:01.570091Z"
    },
    "code_folding": [
     0
    ]
   },
   "outputs": [
    {
     "data": {
      "text/plain": [
       "'/home/wallet/miniconda3/envs/2020_run_scran/lib/python3.8'"
      ]
     },
     "execution_count": 2,
     "metadata": {},
     "output_type": "execute_result"
    }
   ],
   "source": [
    "# Which python\n",
    "import sys\n",
    "\n",
    "sys.path[2]"
   ]
  },
  {
   "cell_type": "markdown",
   "id": "healthy-lemon",
   "metadata": {},
   "source": [
    "## Packages"
   ]
  },
  {
   "cell_type": "code",
   "execution_count": 3,
   "id": "alternate-belize",
   "metadata": {
    "ExecuteTime": {
     "end_time": "2020-04-10T16:32:52.846019Z",
     "start_time": "2020-04-10T16:32:52.840928Z"
    },
    "code_folding": [
     0
    ]
   },
   "outputs": [],
   "source": [
    "# Packages\n",
    "import scipy\n",
    "from scipy import io\n",
    "import warnings\n",
    "\n",
    "import numpy as np\n",
    "import pandas as pd\n",
    "import scanpy as sc\n",
    "import seaborn as sns\n",
    "import matplotlib.pyplot as plt\n",
    "\n",
    "from scipy import sparse\n",
    "from matplotlib import rcParams\n",
    "\n",
    "%matplotlib inline\n",
    "sns.set_style(\"white\")\n",
    "warnings.filterwarnings('ignore')"
   ]
  },
  {
   "cell_type": "markdown",
   "id": "chemical-danish",
   "metadata": {
    "ExecuteTime": {
     "end_time": "2020-04-10T01:04:24.616212Z",
     "start_time": "2020-04-10T01:04:24.613407Z"
    }
   },
   "source": [
    "## Functions"
   ]
  },
  {
   "cell_type": "code",
   "execution_count": 4,
   "id": "demanding-direction",
   "metadata": {
    "ExecuteTime": {
     "end_time": "2020-04-10T15:00:08.011647Z",
     "start_time": "2020-04-10T15:00:07.985655Z"
    },
    "code_folding": [
     0
    ]
   },
   "outputs": [],
   "source": [
    "# Functions\n",
    "\n",
    "# Count distribution\n",
    "def total_molecules_per_cell(adat, count=str):\n",
    "\n",
    "    # Plot distribution of total molecules per cell\n",
    "    a = adat.copy()\n",
    "\n",
    "    print(\"Median total count of UMI is:\", np.median(a.obs[count]))\n",
    "\n",
    "    # Per cell (Total molecules per cell)\n",
    "    fig, (ax1, ax2, ax3) = plt.subplots(nrows=3,\n",
    "                                        ncols=1,\n",
    "                                        sharex=True,\n",
    "                                        figsize=(15, 5))\n",
    "\n",
    "    a.obs[count][a.obs[count] != 0].plot(kind=\"hist\",\n",
    "                                         bins=100,\n",
    "                                         ax=ax1,\n",
    "                                         color=\"r\")\n",
    "    a.obs[count][a.obs[count] != 0].plot(kind=\"kde\", ax=ax2, color=\"r\")\n",
    "    a.obs[count][a.obs[count] != 0].plot(kind=\"box\",\n",
    "                                         vert=False,\n",
    "                                         ax=ax3,\n",
    "                                         color=\"r\")\n",
    "\n",
    "    x = ax3.set_xlabel(\"Molecule counts \"+ count +\" per cell\")\n",
    "\n",
    "    return None\n",
    "\n",
    "\n",
    "# Randomize cells for plotting UMAP\n",
    "def randomize_cells(anndata_object):\n",
    "\n",
    "    \"Randomize cells for plotting UMAP\"\n",
    "\n",
    "    index_list = np.arange(anndata_object.shape[0])\n",
    "    np.random.shuffle(index_list)\n",
    "    anndata_object = anndata_object[index_list]\n",
    "\n",
    "    return anndata_object\n",
    "\n",
    "\n",
    "# Percentage of variance explained\n",
    "def pcs_variance(annadata_object, var_explained):\n",
    "\n",
    "    for idx, var in enumerate(annadata_object.uns[\"pca\"][\"variance_ratio\"]):\n",
    "\n",
    "        var_exp = np.sum(annadata_object.uns[\"pca\"][\"variance_ratio\"][:idx])\n",
    "\n",
    "        if var_exp > var_explained:\n",
    "\n",
    "            return idx\n",
    "\n",
    "\n",
    "# Plot function\n",
    "def plot_cumsum(pc_var, pc, cumvar, color=\"r\"):\n",
    "    \n",
    "    plt.figure()\n",
    "    plt.plot(np.cumsum(pc_var), c=\"k\", zorder=0)\n",
    "    plt.scatter(pc, cumvar, c=color, zorder=1)\n",
    "    plt.xlabel('Number of Components')\n",
    "    plt.ylabel('Variance (%)')  #for each component\n",
    "    plt.title('Dataset Explained Variance')\n",
    "    plt.show()\n",
    "\n",
    "\n",
    "# kneepoint\n",
    "def kneepoint(vec, color=\"r\"):\n",
    "    curve = [1 - x for x in vec]\n",
    "    nPoints = len(curve)\n",
    "    allCoord = np.vstack((range(nPoints), curve)).T\n",
    "    np.array([range(nPoints), curve])\n",
    "    firstPoint = allCoord[0]\n",
    "    lineVec = allCoord[-1] - allCoord[0]\n",
    "    lineVecNorm = lineVec / np.sqrt(np.sum(lineVec**2))\n",
    "    vecFromFirst = allCoord - firstPoint\n",
    "    scalarProduct = np.sum(vecFromFirst *\n",
    "                           numpy.matlib.repmat(lineVecNorm, nPoints, 1),\n",
    "                           axis=1)\n",
    "    vecFromFirstParallel = np.outer(scalarProduct, lineVecNorm)\n",
    "    vecToLine = vecFromFirst - vecFromFirstParallel\n",
    "    distToLine = np.sqrt(np.sum(vecToLine**2, axis=1))\n",
    "    idxOfBestPoint = np.argmax(distToLine)\n",
    "\n",
    "    cumvar = np.cumsum(vec[:idxOfBestPoint + 1])[-1]\n",
    "\n",
    "    print(\"Kneepoint happens at PC:\")\n",
    "\n",
    "    print(\"PC\", idxOfBestPoint)\n",
    "\n",
    "    print(\"The cumulativate variation explaind is:\")\n",
    "\n",
    "    print(cumvar)\n",
    "\n",
    "    plot_cumsum(vec, idxOfBestPoint, cumvar, color)\n",
    "\n",
    "    return idxOfBestPoint\n",
    "\n",
    "\n",
    "# Treatment colors\n",
    "treatment_colors = [\"red\", \"green\", \"yellow\", \"blue\"]\n",
    "\n",
    "\n",
    "# Select PCs\n",
    "def select_pcs(adata_obj, color=\"r\"):\n",
    "\n",
    "    # Slope function\n",
    "    def slope(x1, y1, x2, y2):\n",
    "        return (y2 - y1) / (x2 - x1)\n",
    "\n",
    "    pc_v = adata_obj.uns[\"pca\"][\"variance_ratio\"]\n",
    "\n",
    "    max_slope = slope(1, np.cumsum(pc_v[0])[-1], 2, np.cumsum(pc_v[:2])[-1])\n",
    "\n",
    "    for i, v in enumerate(pc_v):\n",
    "\n",
    "        x1 = i\n",
    "        x2 = x1 + 1\n",
    "\n",
    "        if x1 == 0:\n",
    "            y1 = np.cumsum(pc_v[x1])[-1]\n",
    "        else:\n",
    "            y1 = np.cumsum(pc_v[:x1 + 1])[-1]\n",
    "\n",
    "        y2 = np.cumsum(pc_v[:x2 + 1])[-1]\n",
    "\n",
    "        s = slope(x1, y1, x2, y2)\n",
    "\n",
    "        if s <= max_slope / 10:\n",
    "\n",
    "            print(\"Change of slope no less than 1/10 of PC1 to PC2 is in:\")\n",
    "\n",
    "            print(\"PC\", x1)\n",
    "\n",
    "            print(\"The cumulativate variation explaind is:\")\n",
    "\n",
    "            print(y1)\n",
    "\n",
    "            break\n",
    "\n",
    "    plot_cumsum(pc_v, x1, y1, color)\n",
    "\n",
    "\n",
    "# Genes to potentially remove\n",
    "def genes_to_keep_remove(adata_obj):\n",
    "\n",
    "    # Ribosomal genes\n",
    "    riboL = [gene for gene in adata_obj.var.index if \"RPL\" == gene[0:3]]\n",
    "    riboS = [gene for gene in adata_obj.var.index if \"RPS\" == gene[0:3]]\n",
    "\n",
    "    ribo = list(set(riboL + riboS))\n",
    "\n",
    "    ribosomal_genes_df = pd.read_csv(\n",
    "        \"/home/ec2-user/software/gene_sets/qc/ribosomal_genes.csv\", sep=\",\")\n",
    "\n",
    "    ribos = ribo + list(ribosomal_genes_df[\"ribosomal_genes\"])\n",
    "\n",
    "    # Malat1\n",
    "    malat1 = [\"MALAT1\"]\n",
    "\n",
    "    # Mitochondrial genes\n",
    "    mitos = [gene for gene in adata_obj.var.index if \"MT-\" == gene[0:3]]\n",
    "    mito_ribos = [gene for gene in adata_obj.var.index if \"MRPL\" == gene[0:3]]\n",
    "\n",
    "    # Actin genes\n",
    "    actns = [gene for gene in adata_obj.var.index if \"ACTN\" == gene[0:4]]\n",
    "\n",
    "    remove_genes = {\n",
    "        \"malat1\": malat1,\n",
    "        \"mitos\": mitos,\n",
    "        \"mito_ribos\": mito_ribos,\n",
    "        \"actns\": actns,\n",
    "        \"ribos\": ribos\n",
    "    }\n",
    "\n",
    "    genes_to_remove = set()\n",
    "    for geneset in remove_genes.values():\n",
    "\n",
    "        genes_to_remove = genes_to_remove | set(geneset)\n",
    "\n",
    "    keep_genes = list(set(adata_obj.var.index) - genes_to_remove)\n",
    "\n",
    "    return (keep_genes, remove_genes)\n",
    "\n",
    "\n",
    "# 64 color palette\n",
    "godsnot_64 = [\n",
    "    # \"#000000\",  # remove the black, as often, we have black colored annotation\n",
    "    \"#FFFF00\",\n",
    "    \"#1CE6FF\",\n",
    "    \"#FF34FF\",\n",
    "    \"#FF4A46\",\n",
    "    \"#008941\",\n",
    "    \"#006FA6\",\n",
    "    \"#A30059\",\n",
    "    \"#FFDBE5\",\n",
    "    \"#7A4900\",\n",
    "    \"#0000A6\",\n",
    "    \"#63FFAC\",\n",
    "    \"#B79762\",\n",
    "    \"#004D43\",\n",
    "    \"#8FB0FF\",\n",
    "    \"#997D87\",\n",
    "    \"#5A0007\",\n",
    "    \"#809693\",\n",
    "    \"#6A3A4C\",\n",
    "    \"#1B4400\",\n",
    "    \"#4FC601\",\n",
    "    \"#3B5DFF\",\n",
    "    \"#4A3B53\",\n",
    "    \"#FF2F80\",\n",
    "    \"#61615A\",\n",
    "    \"#BA0900\",\n",
    "    \"#6B7900\",\n",
    "    \"#00C2A0\",\n",
    "    \"#FFAA92\",\n",
    "    \"#FF90C9\",\n",
    "    \"#B903AA\",\n",
    "    \"#D16100\",\n",
    "    \"#DDEFFF\",\n",
    "    \"#000035\",\n",
    "    \"#7B4F4B\",\n",
    "    \"#A1C299\",\n",
    "    \"#300018\",\n",
    "    \"#0AA6D8\",\n",
    "    \"#013349\",\n",
    "    \"#00846F\",\n",
    "    \"#372101\",\n",
    "    \"#FFB500\",\n",
    "    \"#C2FFED\",\n",
    "    \"#A079BF\",\n",
    "    \"#CC0744\",\n",
    "    \"#C0B9B2\",\n",
    "    \"#C2FF99\",\n",
    "    \"#001E09\",\n",
    "    \"#00489C\",\n",
    "    \"#6F0062\",\n",
    "    \"#0CBD66\",\n",
    "    \"#EEC3FF\",\n",
    "    \"#456D75\",\n",
    "    \"#B77B68\",\n",
    "    \"#7A87A1\",\n",
    "    \"#788D66\",\n",
    "    \"#885578\",\n",
    "    \"#FAD09F\",\n",
    "    \"#FF8A9A\",\n",
    "    \"#D157A0\",\n",
    "    \"#BEC459\",\n",
    "    \"#456648\",\n",
    "    \"#0086ED\",\n",
    "    \"#886F4C\",\n",
    "    \"#34362D\",\n",
    "    \"#B4A8BD\",\n",
    "    \"#00A6AA\",\n",
    "    \"#452C2C\",\n",
    "    \"#636375\",\n",
    "    \"#A3C8C9\",\n",
    "    \"#FF913F\",\n",
    "    \"#938A81\",\n",
    "    \"#575329\",\n",
    "    \"#00FECF\",\n",
    "    \"#B05B6F\",\n",
    "    \"#8CD0FF\",\n",
    "    \"#3B9700\",\n",
    "    \"#04F757\",\n",
    "    \"#C8A1A1\",\n",
    "    \"#1E6E00\",\n",
    "    \"#7900D7\",\n",
    "    \"#A77500\",\n",
    "    \"#6367A9\",\n",
    "    \"#A05837\",\n",
    "    \"#6B002C\",\n",
    "    \"#772600\",\n",
    "    \"#D790FF\",\n",
    "    \"#9B9700\",\n",
    "    \"#549E79\",\n",
    "    \"#FFF69F\",\n",
    "    \"#201625\",\n",
    "    \"#72418F\",\n",
    "    \"#BC23FF\",\n",
    "    \"#99ADC0\",\n",
    "    \"#3A2465\",\n",
    "    \"#922329\",\n",
    "    \"#5B4534\",\n",
    "    \"#FDE8DC\",\n",
    "    \"#404E55\",\n",
    "    \"#0089A3\",\n",
    "    \"#CB7E98\",\n",
    "    \"#A4E804\",\n",
    "    \"#324E72\"\n",
    "]"
   ]
  },
  {
   "cell_type": "markdown",
   "id": "moral-commercial",
   "metadata": {},
   "source": [
    "## Load data\n"
   ]
  },
  {
   "cell_type": "code",
   "execution_count": 9,
   "id": "technical-refrigerator",
   "metadata": {},
   "outputs": [],
   "source": [
    "#define paths and parameters\n",
    "\n",
    "adata_path = '/data/peer/wallet/Jupyter/PAAD-X-Peng_Sun-X-2019-X-10.1038s41422-019-0195-y-X-Jupyter/output_data/2021_PDAC_RT_Huber_Walle_raw_data_annotated_emptydrops_noribo_nomito_clustered_nodrops_doublets_nodoubs_libsize_log1p_clustered_10000hv_genes_curated_marker_genes_210216_leukocytes_scran_clustered_annotated_imputed_hvg15000_and_marker_genes_myeloid.h5ad'\n",
    "\n",
    "#directory to drop scran input files into\n",
    "input_PATH = \"/data/peer/wallet/Jupyter/PAAD-X-Peng_Sun-X-2019-X-10.1038s41422-019-0195-y-X-Jupyter/output_data/scran_M/input/\""
   ]
  },
  {
   "cell_type": "code",
   "execution_count": 10,
   "id": "backed-cartoon",
   "metadata": {
    "ExecuteTime": {
     "end_time": "2020-04-10T15:00:15.167659Z",
     "start_time": "2020-04-10T15:00:14.830097Z"
    }
   },
   "outputs": [
    {
     "data": {
      "text/plain": [
       "(17053, 18119)"
      ]
     },
     "execution_count": 10,
     "metadata": {},
     "output_type": "execute_result"
    }
   ],
   "source": [
    "# Read raw adata\n",
    "adata = sc.read_h5ad(adata_path)\n",
    "samples_to_exclude = []\n",
    "adata.shape"
   ]
  },
  {
   "cell_type": "markdown",
   "id": "parallel-shopper",
   "metadata": {},
   "source": [
    "## Dealing with negative size factors\n",
    "\n",
    "It is possible for the deconvolution algorithm to yield negative estimates for the size factors. These values are obviously nonsensical and `computeSumFactors` will raise a warning if they are encountered. Negative estimates are mostly commonly generated from low quality cells with few expressed features, such that most genes still have zero counts even after pooling. They may also occur if insufficient filtering of low-abundance genes was performed.\n",
    "\n",
    "To avoid negative size factors, the best solution is to increase the stringency of the filtering.\n",
    "\n",
    "If only a few negative size factors are present, they are likely to correspond to a few low-quality cells with few expressed features. Such cells are difficult to normalize reliably under any approach, and can be removed by increasing the stringency of the quality control.\n",
    "\n",
    "If many negative size factors are present, it is probably due to insufficient filtering of low-abundance genes. This results in many zero counts and pooled size factors of zero, and can be fixed by filtering out more genes with a higher `min.mean` - see “Gene selection” below.\n",
    "\n",
    "Another approach is to increase in the number of `sizes` to improve the precision of the estimates. This reduces the chance of obtaining negative size factors due to estimation error, for cells where the true size factors are very small.\n",
    "\n",
    "As a last resort, `positive=TRUE` is set by default, which uses `cleanSizeFactors` to coerce any negative estimates to positive values. This ensures that, at the very least, downstream analysis is possible even if the size factors for affected cells are not accurate. Users can skip this step by setting `positive=FALSE` to perform their own diagnostics or coercions.\n",
    "\n",
    "REF: https://rdrr.io/bioc/scran_final/man/computeSumFactors.html"
   ]
  },
  {
   "cell_type": "markdown",
   "id": "focused-resistance",
   "metadata": {},
   "source": [
    "`scTranform` filters out genes that are expressed in no more than 5 cells by default. However, when applying `scran`, negative factors were present in data if the number of cells was limited to 5. By limiting the cells to 10, no negative factors were found. Thus, for consistency I remove genes that are expressed in no more than 10 cells. Similarly, `scanpy` tutorial suggests 3 cells as a threshold as a basic filter, but for the reasons mentioned above, I think 10 is a reasonable balance.\n",
    "\n",
    "REF: https://icb-scanpy-tutorials.readthedocs-hosted.com/en/latest/pbmc3k.html"
   ]
  },
  {
   "cell_type": "markdown",
   "id": "sweet-knight",
   "metadata": {},
   "source": [
    "#define samples to normalize (if necessary)\n",
    "a_length=len(adata)\n",
    "print('length of original adata is', a_length)\n",
    "\n",
    "adata = adata[~adata.obs['sample_id'].isin(samples_to_exclude)]\n",
    "b_length=len(adata)\n",
    "print('length of filtered adata is', b_length)"
   ]
  },
  {
   "cell_type": "code",
   "execution_count": 11,
   "id": "million-repeat",
   "metadata": {
    "ExecuteTime": {
     "end_time": "2020-04-10T15:38:54.146933Z",
     "start_time": "2020-04-10T15:38:54.024303Z"
    }
   },
   "outputs": [
    {
     "data": {
      "text/plain": [
       "(17053, 16698)"
      ]
     },
     "execution_count": 11,
     "metadata": {},
     "output_type": "execute_result"
    }
   ],
   "source": [
    "### Remove genes expressed in less tha 10 cells\n",
    "sc.pp.filter_genes(adata, min_cells=10)\n",
    "\n",
    "adata.shape"
   ]
  },
  {
   "cell_type": "code",
   "execution_count": 12,
   "id": "atomic-constant",
   "metadata": {},
   "outputs": [],
   "source": [
    "#add raw .X\n",
    "adata1 = adata.raw"
   ]
  },
  {
   "cell_type": "code",
   "execution_count": 13,
   "id": "charged-still",
   "metadata": {},
   "outputs": [
    {
     "data": {
      "text/plain": [
       "AnnData object with n_obs × n_vars = 17053 × 16698\n",
       "    obs: 'n_genes_by_counts', 'log1p_n_genes_by_counts', 'total_counts', 'log1p_total_counts', 'pct_counts_in_top_50_genes', 'pct_counts_in_top_100_genes', 'pct_counts_in_top_200_genes', 'pct_counts_in_top_500_genes', 'pheno_k10', 'pheno_k20', 'pheno_k30', 'pheno_k40', 'pheno_k50', 'pheno_k60', 'pheno_k70', 'pheno_k80', 'pheno_k90', 'pheno_k100', 'batch', 'primary_tumor', 'Limited', 'PValue_emptydrops', 'FDR_emptydrops', 'total_molecules', 'percent_mito', 'empty_droplet_sig', 'doublets', 'pheno_var_k10', 'pheno_var_k20', 'pheno_var_k30', 'pheno_var_k40', 'pheno_var_k50', 'pheno_var_k60', 'pheno_var_k70', 'pheno_var_k80', 'pheno_var_k90', 'pheno_var_k100', 'major_subsets'\n",
       "    var: 'n_cells_by_counts', 'mean_counts', 'log1p_mean_counts', 'pct_dropout_by_counts', 'total_counts', 'log1p_total_counts', 'highly_variable', 'highly_variable_rank', 'means', 'variances', 'variances_norm', 'n_cells'\n",
       "    uns: 'hvg', 'major_subsets_colors', 'neighbors', 'pca', 'umap'\n",
       "    obsm: 'X_pca', 'X_tsne', 'X_umap'\n",
       "    varm: 'PCs'\n",
       "    layers: 'imputed', 'raw'\n",
       "    obsp: 'connectivities', 'distances'"
      ]
     },
     "execution_count": 13,
     "metadata": {},
     "output_type": "execute_result"
    }
   ],
   "source": [
    "adata"
   ]
  },
  {
   "cell_type": "code",
   "execution_count": 14,
   "id": "valued-politics",
   "metadata": {},
   "outputs": [],
   "source": [
    "#filter genes\n",
    "adata1 = adata1[adata.obs_names,adata.var_names]"
   ]
  },
  {
   "cell_type": "code",
   "execution_count": 15,
   "id": "vietnamese-responsibility",
   "metadata": {},
   "outputs": [],
   "source": [
    "#add .X to adata\n",
    "adata1.obs = adata.obs"
   ]
  },
  {
   "cell_type": "code",
   "execution_count": 16,
   "id": "artificial-bridal",
   "metadata": {},
   "outputs": [],
   "source": [
    "adata.X = adata1.X"
   ]
  },
  {
   "cell_type": "code",
   "execution_count": 17,
   "id": "graphic-romantic",
   "metadata": {},
   "outputs": [
    {
     "name": "stdout",
     "output_type": "stream",
     "text": [
      "  (0, 2690)\t1.0\n",
      "  (0, 2270)\t1.0\n",
      "  (0, 12143)\t1.0\n",
      "  (0, 11643)\t1.0\n",
      "  (0, 11944)\t1.0\n",
      "  (0, 8600)\t1.0\n",
      "  (0, 15321)\t1.0\n",
      "  (0, 8522)\t1.0\n",
      "  (0, 6680)\t2.0\n",
      "  (0, 7878)\t1.0\n",
      "  (0, 7950)\t128.0\n",
      "  (0, 9052)\t4.0\n",
      "  (0, 4563)\t1.0\n",
      "  (0, 8323)\t1.0\n",
      "  (0, 10814)\t1.0\n",
      "  (0, 6149)\t1.0\n",
      "  (0, 12346)\t1.0\n",
      "  (0, 12458)\t1.0\n",
      "  (0, 12413)\t1.0\n",
      "  (0, 8936)\t1.0\n",
      "  (0, 12459)\t1.0\n",
      "  (0, 7379)\t1.0\n",
      "  (0, 15638)\t1.0\n",
      "  (0, 7335)\t1.0\n",
      "  (0, 12666)\t1.0\n",
      "  :\t:\n",
      "  (17052, 12746)\t1.0\n",
      "  (17052, 1004)\t1.0\n",
      "  (17052, 3678)\t1.0\n",
      "  (17052, 10799)\t1.0\n",
      "  (17052, 15633)\t2.0\n",
      "  (17052, 4707)\t1.0\n",
      "  (17052, 14809)\t3.0\n",
      "  (17052, 1008)\t1.0\n",
      "  (17052, 5797)\t2.0\n",
      "  (17052, 1060)\t1.0\n",
      "  (17052, 2383)\t1.0\n",
      "  (17052, 10296)\t1.0\n",
      "  (17052, 2400)\t4.0\n",
      "  (17052, 13115)\t3.0\n",
      "  (17052, 2893)\t2.0\n",
      "  (17052, 15332)\t1.0\n",
      "  (17052, 12449)\t1.0\n",
      "  (17052, 8809)\t1.0\n",
      "  (17052, 7855)\t1.0\n",
      "  (17052, 7004)\t2.0\n",
      "  (17052, 11412)\t1.0\n",
      "  (17052, 7200)\t1.0\n",
      "  (17052, 5112)\t1.0\n",
      "  (17052, 11260)\t1.0\n",
      "  (17052, 2657)\t1.0\n"
     ]
    }
   ],
   "source": [
    "print(adata.X)"
   ]
  },
  {
   "cell_type": "markdown",
   "id": "referenced-night",
   "metadata": {},
   "source": [
    "## Prepare scran input files"
   ]
  },
  {
   "cell_type": "code",
   "execution_count": 18,
   "id": "automotive-inspection",
   "metadata": {
    "ExecuteTime": {
     "end_time": "2020-04-10T16:30:17.244660Z",
     "start_time": "2020-04-10T16:30:17.217220Z"
    }
   },
   "outputs": [],
   "source": [
    "# Calculate total molecules per cell\n",
    "adata1 = adata.copy()"
   ]
  },
  {
   "cell_type": "code",
   "execution_count": 19,
   "id": "bored-signature",
   "metadata": {
    "ExecuteTime": {
     "end_time": "2020-04-10T16:30:26.708552Z",
     "start_time": "2020-04-10T16:30:26.488598Z"
    },
    "code_folding": [
     0
    ]
   },
   "outputs": [],
   "source": [
    "### QC metrics\n",
    "sc.pp.calculate_qc_metrics(\n",
    "    adata1,\n",
    "    expr_type=\"counts\",\n",
    "    var_type=\"genes\",\n",
    "    inplace=True\n",
    ")"
   ]
  },
  {
   "cell_type": "code",
   "execution_count": 20,
   "id": "distant-career",
   "metadata": {
    "ExecuteTime": {
     "end_time": "2020-04-10T16:30:43.711855Z",
     "start_time": "2020-04-10T16:30:42.856552Z"
    }
   },
   "outputs": [
    {
     "name": "stdout",
     "output_type": "stream",
     "text": [
      "Median total count of UMI is: 2455.0\n"
     ]
    },
    {
     "data": {
      "image/png": "[encoded data removed]",
      "text/plain": [
       "<Figure size 1080x360 with 3 Axes>"
      ]
     },
     "metadata": {},
     "output_type": "display_data"
    }
   ],
   "source": [
    "total_molecules_per_cell(adata1, count=\"total_counts\")"
   ]
  },
  {
   "cell_type": "markdown",
   "id": "configured-airline",
   "metadata": {},
   "source": [
    "### Sparse gene matrix\n"
   ]
  },
  {
   "cell_type": "code",
   "execution_count": 21,
   "id": "wound-distinction",
   "metadata": {
    "ExecuteTime": {
     "end_time": "2020-04-10T16:31:26.108833Z",
     "start_time": "2020-04-10T16:31:25.794298Z"
    }
   },
   "outputs": [
    {
     "data": {
      "text/plain": [
       "<17053x16698 sparse matrix of type '<class 'numpy.float32'>'\n",
       "\twith 20155676 stored elements in Compressed Sparse Row format>"
      ]
     },
     "execution_count": 21,
     "metadata": {},
     "output_type": "execute_result"
    }
   ],
   "source": [
    "mtx_file = sparse.csr_matrix(adata1.X)\n",
    "\n",
    "mtx_file"
   ]
  },
  {
   "cell_type": "code",
   "execution_count": 23,
   "id": "everyday-pitch",
   "metadata": {},
   "outputs": [],
   "source": [
    "# Write sparse matrix\n",
    "FILE = \"combo_fixed_counts_v1.mtx\"\n",
    "\n",
    "scipy.io.mmwrite(input_PATH + FILE, mtx_file)"
   ]
  },
  {
   "cell_type": "markdown",
   "id": "quality-hawaii",
   "metadata": {},
   "source": [
    "### Gene names"
   ]
  },
  {
   "cell_type": "code",
   "execution_count": 24,
   "id": "productive-battle",
   "metadata": {
    "ExecuteTime": {
     "end_time": "2020-04-10T16:32:56.521777Z",
     "start_time": "2020-04-10T16:32:56.516194Z"
    }
   },
   "outputs": [
    {
     "data": {
      "text/plain": [
       "0          A1BG\n",
       "1          A1CF\n",
       "2           A2M\n",
       "3         A2ML1\n",
       "4        A4GALT\n",
       "          ...  \n",
       "16693      ZXDC\n",
       "16694    ZYG11B\n",
       "16695       ZYX\n",
       "16696     ZZEF1\n",
       "16697      ZZZ3\n",
       "Length: 16698, dtype: object"
      ]
     },
     "execution_count": 24,
     "metadata": {},
     "output_type": "execute_result"
    }
   ],
   "source": [
    "g_file = pd.Series(adata1.var_names)\n",
    "\n",
    "g_file"
   ]
  },
  {
   "cell_type": "code",
   "execution_count": 25,
   "id": "raising-workshop",
   "metadata": {},
   "outputs": [],
   "source": [
    "# Write gene names\n",
    "FILE = \"genes.csv\"\n",
    "\n",
    "g_file.to_csv(input_PATH + FILE, index=False, header=False)"
   ]
  },
  {
   "cell_type": "markdown",
   "id": "hairy-typing",
   "metadata": {},
   "source": [
    "### Cell names"
   ]
  },
  {
   "cell_type": "code",
   "execution_count": 26,
   "id": "conceptual-tradition",
   "metadata": {
    "ExecuteTime": {
     "end_time": "2020-04-10T16:33:34.915287Z",
     "start_time": "2020-04-10T16:33:34.911705Z"
    }
   },
   "outputs": [
    {
     "data": {
      "text/plain": [
       "Index(['235000971515614-T23', '204762107788076-T22', '196113251555110-T12',\n",
       "       '125728279718813-N11', '195623342500699-T18', '236221655313118-T14',\n",
       "       '239448295393707-T02', '200983461154206-T18', '157536928845084-T13',\n",
       "       '157486629443813-T22',\n",
       "       ...\n",
       "       '169027831478172-T03', '129978390735588-T15', '130184193359204-T21',\n",
       "       '157684165986678-T03', '169723796548966-T15', '126706311425307-T17',\n",
       "       '121879170824995-T16', '120864485590886-T10', '169014034020203-T11',\n",
       "       '129565717587827-T17'],\n",
       "      dtype='object', length=17053)"
      ]
     },
     "execution_count": 26,
     "metadata": {},
     "output_type": "execute_result"
    }
   ],
   "source": [
    "adata1.obs_names"
   ]
  },
  {
   "cell_type": "code",
   "execution_count": 27,
   "id": "decimal-probability",
   "metadata": {
    "ExecuteTime": {
     "end_time": "2020-04-10T16:33:46.368004Z",
     "start_time": "2020-04-10T16:33:46.363225Z"
    }
   },
   "outputs": [
    {
     "data": {
      "text/plain": [
       "0        235000971515614-T23\n",
       "1        204762107788076-T22\n",
       "2        196113251555110-T12\n",
       "3        125728279718813-N11\n",
       "4        195623342500699-T18\n",
       "                ...         \n",
       "17048    126706311425307-T17\n",
       "17049    121879170824995-T16\n",
       "17050    120864485590886-T10\n",
       "17051    169014034020203-T11\n",
       "17052    129565717587827-T17\n",
       "Length: 17053, dtype: object"
      ]
     },
     "execution_count": 27,
     "metadata": {},
     "output_type": "execute_result"
    }
   ],
   "source": [
    "bc_file = pd.Series(adata1.obs_names)\n",
    "\n",
    "bc_file"
   ]
  },
  {
   "cell_type": "code",
   "execution_count": 28,
   "id": "german-appreciation",
   "metadata": {},
   "outputs": [],
   "source": [
    "# Write gene names\n",
    "FILE = \"cells.csv\"\n",
    "\n",
    "bc_file.to_csv(input_PATH + FILE, index=False, header=False)"
   ]
  },
  {
   "cell_type": "markdown",
   "id": "danish-wiring",
   "metadata": {},
   "source": [
    "## Run scran\n"
   ]
  },
  {
   "cell_type": "markdown",
   "id": "fundamental-timer",
   "metadata": {},
   "source": [
    "On the terminal do:"
   ]
  },
  {
   "cell_type": "markdown",
   "id": "domestic-lounge",
   "metadata": {
    "ExecuteTime": {
     "end_time": "2020-04-10T16:35:25.353142Z",
     "start_time": "2020-04-10T16:35:25.348887Z"
    }
   },
   "source": [
    "```\n",
    "PATH_I=~/scran_final/input/\n",
    "PATH_O=~/scran_final/input/output/\n",
    "PATH_T=~/run_scran.R\n",
    "\n",
    "m_file=combo_fixed_counts_v1.mtx\n",
    "g_file=genes.csv\n",
    "bc_file=cells.csv\n",
    "ofile=sct_combo_fixed_counts_v1.csv\n",
    "tfile=run_scran.R\n",
    "\n",
    "Rscript $PATH_T$tfile $PATH_I$m_file $PATH_I$g_file $PATH_I$bc_file $PATH_O$ofile\n",
    "```"
   ]
  },
  {
   "cell_type": "markdown",
   "id": "inner-prisoner",
   "metadata": {},
   "source": [
    "## Load scran output\n"
   ]
  },
  {
   "cell_type": "code",
   "execution_count": 5,
   "id": "formed-confusion",
   "metadata": {},
   "outputs": [],
   "source": [
    "adata_save_path = '/data/peer/wallet/Jupyter/PAAD-X-Peng_Sun-X-2019-X-10.1038s41422-019-0195-y-X-Jupyter/output_data/2021_PDAC_RT_Huber_Walle_M_scran.h5ad'"
   ]
  },
  {
   "cell_type": "code",
   "execution_count": 6,
   "id": "better-islam",
   "metadata": {
    "ExecuteTime": {
     "end_time": "2020-04-10T16:37:58.722752Z",
     "start_time": "2020-04-10T16:37:57.863995Z"
    }
   },
   "outputs": [],
   "source": [
    "import anndata2ri\n",
    "\n",
    "anndata2ri.activate()\n",
    "\n",
    "%load_ext rpy2.ipython"
   ]
  },
  {
   "cell_type": "markdown",
   "id": "functional-nicaragua",
   "metadata": {},
   "source": [
    "Install following R packages only first time"
   ]
  },
  {
   "cell_type": "code",
   "execution_count": 7,
   "id": "assumed-tragedy",
   "metadata": {
    "ExecuteTime": {
     "end_time": "2020-04-10T16:50:38.402986Z",
     "start_time": "2020-04-10T16:50:38.395640Z"
    }
   },
   "outputs": [],
   "source": [
    "#%%R\n",
    "\n",
    "#paste(\"R\", \"T\", sep = \"\")"
   ]
  },
  {
   "cell_type": "code",
   "execution_count": 8,
   "id": "wireless-daily",
   "metadata": {},
   "outputs": [],
   "source": [
    "#%%R\n",
    "\n",
    "#BiocManager::install(\"S4Vectors\")\n",
    "#BiocManager::install(\"SummarizedExperiment\")\n",
    "#BiocManager::install(\"SingleCellExperiment\")"
   ]
  },
  {
   "cell_type": "code",
   "execution_count": 9,
   "id": "electoral-cricket",
   "metadata": {
    "ExecuteTime": {
     "end_time": "2020-04-10T16:55:09.106054Z",
     "start_time": "2020-04-10T16:55:00.366063Z"
    }
   },
   "outputs": [
    {
     "name": "stdout",
     "output_type": "stream",
     "text": [
      "class: SingleCellExperiment \n",
      "dim: 16698 17053 \n",
      "metadata(0):\n",
      "assays(2): X logcounts\n",
      "rownames(16698): A1BG A1CF ... ZZEF1 ZZZ3\n",
      "rowData names(1): value\n",
      "colnames(17053): 235000971515614-T23 204762107788076-T22 ...\n",
      "  169014034020203-T11 129565717587827-T17\n",
      "colData names(0):\n",
      "reducedDimNames(0):\n",
      "spikeNames(0):\n",
      "altExpNames(0):\n"
     ]
    }
   ],
   "source": [
    "%%R -o scr_matrix\n",
    "\n",
    "library(Matrix)\n",
    "\n",
    "PATH1 <- \"/data/peer/wallet/Jupyter/PAAD-X-Peng_Sun-X-2019-X-10.1038s41422-019-0195-y-X-Jupyter/output_data/\"\n",
    "PATH2 <- \"scran_M/output/\"\n",
    "\n",
    "PATH <- paste(PATH1, PATH2, sep = \"\")\n",
    "\n",
    "FILE <- \"sct_combo_fixed_counts_v1.rds\"\n",
    "\n",
    "FILE <- paste(PATH, FILE, sep = \"\")\n",
    "\n",
    "scr_matrix <- readRDS(FILE)\n",
    "\n",
    "scr_matrix <- as(scr_matrix, 'SingleCellExperiment')\n",
    "\n",
    "scr_matrix"
   ]
  },
  {
   "cell_type": "code",
   "execution_count": 10,
   "id": "comparative-bradley",
   "metadata": {
    "ExecuteTime": {
     "end_time": "2020-04-10T16:55:39.308901Z",
     "start_time": "2020-04-10T16:55:39.304345Z"
    }
   },
   "outputs": [
    {
     "data": {
      "text/plain": [
       "array([[0.        , 0.        , 0.        , ..., 2.0971548 , 0.        ,\n",
       "        0.        ],\n",
       "       [0.        , 0.        , 0.99680381, ..., 0.58283249, 0.        ,\n",
       "        0.        ],\n",
       "       [1.81892234, 0.        , 0.        , ..., 0.        , 0.        ,\n",
       "        0.        ],\n",
       "       ...,\n",
       "       [0.        , 0.        , 0.        , ..., 0.        , 0.        ,\n",
       "        0.        ],\n",
       "       [0.        , 0.        , 2.07589963, ..., 0.        , 0.        ,\n",
       "        0.        ],\n",
       "       [0.        , 0.        , 0.        , ..., 0.        , 0.        ,\n",
       "        0.        ]])"
      ]
     },
     "execution_count": 10,
     "metadata": {},
     "output_type": "execute_result"
    }
   ],
   "source": [
    "# Add log counts from scran\n",
    "scr_matrix.X = scr_matrix.layers[\"logcounts\"]\n",
    "\n",
    "scr_matrix.X"
   ]
  },
  {
   "cell_type": "code",
   "execution_count": 11,
   "id": "prostate-ethnic",
   "metadata": {
    "ExecuteTime": {
     "end_time": "2020-04-10T16:56:13.423235Z",
     "start_time": "2020-04-10T16:56:13.328419Z"
    }
   },
   "outputs": [
    {
     "data": {
      "text/plain": [
       "AnnData object with n_obs × n_vars = 17053 × 16698"
      ]
     },
     "execution_count": 11,
     "metadata": {},
     "output_type": "execute_result"
    }
   ],
   "source": [
    "adata1scr = sc.AnnData(X=np.array(scr_matrix.X),\n",
    "                       obs={'obs_names': scr_matrix.obs_names},\n",
    "                       var={'var_names': scr_matrix.var_names})\n",
    "\n",
    "adata1scr"
   ]
  },
  {
   "cell_type": "code",
   "execution_count": 12,
   "id": "occupied-chile",
   "metadata": {
    "ExecuteTime": {
     "end_time": "2020-04-10T16:56:28.989169Z",
     "start_time": "2020-04-10T16:56:28.772346Z"
    }
   },
   "outputs": [],
   "source": [
    "### QC metrics\n",
    "sc.pp.calculate_qc_metrics(adata1scr,\n",
    "                           expr_type=\"counts\",\n",
    "                           var_type=\"genes\",\n",
    "                           inplace=True)"
   ]
  },
  {
   "cell_type": "code",
   "execution_count": 13,
   "id": "medium-finland",
   "metadata": {
    "ExecuteTime": {
     "end_time": "2020-04-10T16:56:38.855895Z",
     "start_time": "2020-04-10T16:56:38.818688Z"
    }
   },
   "outputs": [],
   "source": [
    "a = adata1scr.copy()"
   ]
  },
  {
   "cell_type": "code",
   "execution_count": 14,
   "id": "addressed-champion",
   "metadata": {
    "ExecuteTime": {
     "end_time": "2020-04-10T16:56:51.457580Z",
     "start_time": "2020-04-10T16:56:50.688792Z"
    }
   },
   "outputs": [
    {
     "name": "stdout",
     "output_type": "stream",
     "text": [
      "Median total count of UMI is: 1699.5481\n"
     ]
    },
    {
     "data": {
      "image/png": "[encoded data removed]",
      "text/plain": [
       "<Figure size 1080x360 with 3 Axes>"
      ]
     },
     "metadata": {},
     "output_type": "display_data"
    }
   ],
   "source": [
    "total_molecules_per_cell(a, count=\"total_counts\")"
   ]
  },
  {
   "cell_type": "code",
   "execution_count": 15,
   "id": "minus-helmet",
   "metadata": {},
   "outputs": [],
   "source": [
    "### Save\n",
    "\n",
    "adata1scr.write(adata_save_path)"
   ]
  },
  {
   "cell_type": "markdown",
   "id": "departmental-spread",
   "metadata": {},
   "source": [
    "# End"
   ]
  },
  {
   "cell_type": "code",
   "execution_count": null,
   "id": "centered-electricity",
   "metadata": {},
   "outputs": [],
   "source": []
  },
  {
   "cell_type": "code",
   "execution_count": null,
   "id": "confidential-equipment",
   "metadata": {},
   "outputs": [],
   "source": []
  },
  {
   "cell_type": "code",
   "execution_count": null,
   "id": "limiting-glass",
   "metadata": {},
   "outputs": [],
   "source": []
  }
 ],
 "metadata": {
  "kernelspec": {
   "display_name": "Python 3",
   "language": "python",
   "name": "python3"
  },
  "language_info": {
   "codemirror_mode": {
    "name": "ipython",
    "version": 3
   },
   "file_extension": ".py",
   "mimetype": "text/x-python",
   "name": "python",
   "nbconvert_exporter": "python",
   "pygments_lexer": "ipython3",
   "version": "3.8.1"
  }
 },
 "nbformat": 4,
 "nbformat_minor": 5
}
