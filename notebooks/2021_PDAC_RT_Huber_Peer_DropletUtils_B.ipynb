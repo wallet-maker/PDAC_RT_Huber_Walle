{
 "cells": [
  {
   "cell_type": "markdown",
   "metadata": {
    "ExecuteTime": {
     "end_time": "2020-01-27T16:03:12.016046Z",
     "start_time": "2020-01-27T16:03:11.686834Z"
    }
   },
   "source": [
    "# import packages"
   ]
  },
  {
   "cell_type": "code",
   "execution_count": null,
   "metadata": {},
   "outputs": [],
   "source": [
    "import os\n",
    "import glob\n",
    "\n",
    "\n",
    "import pandas as pd"
   ]
  },
  {
   "cell_type": "markdown",
   "metadata": {},
   "source": [
    "# prepare data for DropletUtils R package"
   ]
  },
  {
   "cell_type": "code",
   "execution_count": 6,
   "metadata": {
    "ExecuteTime": {
     "end_time": "2020-01-27T16:00:29.995531Z",
     "start_time": "2020-01-27T16:00:29.993014Z"
    }
   },
   "outputs": [],
   "source": [
    "#define input and output directories\n",
    "data_dir = \"~/data/scrnaseq/empty_drops/sparse_matrices/\"\n",
    "output_dir_path = '~/data/scrnaseq/empty_drops/sparse_matrices/'\n",
    "\n",
    "#indicate location of emptydrops R script here\n",
    "emptyDrops = \"~/PDAC_RT_Huber_Peer/run_emptyDrops.R\" "
   ]
  },
  {
   "cell_type": "code",
   "execution_count": 7,
   "metadata": {
    "ExecuteTime": {
     "end_time": "2020-01-27T16:00:42.887565Z",
     "start_time": "2020-01-27T16:00:42.875935Z"
    },
    "scrolled": true
   },
   "outputs": [
    {
     "data": {
      "text/plain": [
       "['N01',\n",
       " 'N02',\n",
       " 'N03',\n",
       " 'N04',\n",
       " 'N05',\n",
       " 'N06',\n",
       " 'N07',\n",
       " 'N08',\n",
       " 'N09',\n",
       " 'N10',\n",
       " 'N11',\n",
       " 'T01',\n",
       " 'T02',\n",
       " 'T03',\n",
       " 'T04',\n",
       " 'T05',\n",
       " 'T06',\n",
       " 'T07',\n",
       " 'T08',\n",
       " 'T09',\n",
       " 'T10',\n",
       " 'T11',\n",
       " 'T12',\n",
       " 'T13',\n",
       " 'T14',\n",
       " 'T15',\n",
       " 'T16',\n",
       " 'T17',\n",
       " 'T18',\n",
       " 'T19',\n",
       " 'T20',\n",
       " 'T21',\n",
       " 'T22',\n",
       " 'T23',\n",
       " 'T24']"
      ]
     },
     "execution_count": 7,
     "metadata": {},
     "output_type": "execute_result"
    }
   ],
   "source": [
    "sample_names = sorted(\n",
    "   [name for name in os.listdir(data_dir) if \".\" not in name])\n",
    "\n",
    "sample_names"
   ]
  },
  {
   "cell_type": "code",
   "execution_count": 2,
   "metadata": {},
   "outputs": [],
   "source": [
    "#iterate through this section to process the samples individually. Start with index_iter = 0 and increase by one\n",
    "#for every iteration until all samples have been processed"
   ]
  },
  {
   "cell_type": "code",
   "execution_count": 683,
   "metadata": {
    "ExecuteTime": {
     "end_time": "2020-01-27T16:00:46.638831Z",
     "start_time": "2020-01-27T16:00:46.635120Z"
    }
   },
   "outputs": [
    {
     "ename": "IndexError",
     "evalue": "list index out of range",
     "output_type": "error",
     "traceback": [
      "\u001b[0;31m---------------------------------------------------------------------------\u001b[0m",
      "\u001b[0;31mIndexError\u001b[0m                                Traceback (most recent call last)",
      "\u001b[0;32m<ipython-input-683-c4ea2e2de49c>\u001b[0m in \u001b[0;36m<module>\u001b[0;34m\u001b[0m\n\u001b[0;32m----> 1\u001b[0;31m \u001b[0msample\u001b[0m \u001b[0;34m=\u001b[0m \u001b[0msample_names\u001b[0m\u001b[0;34m[\u001b[0m\u001b[0;36m35\u001b[0m\u001b[0;34m]\u001b[0m\u001b[0;34m\u001b[0m\u001b[0;34m\u001b[0m\u001b[0m\n\u001b[0m\u001b[1;32m      2\u001b[0m \u001b[0msample\u001b[0m\u001b[0;34m\u001b[0m\u001b[0;34m\u001b[0m\u001b[0m\n",
      "\u001b[0;31mIndexError\u001b[0m: list index out of range"
     ]
    }
   ],
   "source": [
    "#increase until all samples have been processed --> IndexError: list index out of range\n",
    "sample = sample_names[35]\n",
    "sample"
   ]
  },
  {
   "cell_type": "code",
   "execution_count": 665,
   "metadata": {
    "ExecuteTime": {
     "end_time": "2020-01-27T16:03:23.344863Z",
     "start_time": "2020-01-27T16:03:23.341900Z"
    }
   },
   "outputs": [],
   "source": [
    "sparse_molecule_counts_file = data_dir + \"/%s/*_sparse_molecule_counts.mtx\" % sample\n",
    "sparse_counts_barcodes_file = data_dir + \"/%s/*_sparse_counts_barcodes.csv\" % sample"
   ]
  },
  {
   "cell_type": "code",
   "execution_count": null,
   "metadata": {},
   "outputs": [],
   "source": [
    "sparse_molecule_counts_file"
   ]
  },
  {
   "cell_type": "code",
   "execution_count": 667,
   "metadata": {},
   "outputs": [],
   "source": [
    "sparse_molecule_counts = glob.glob(sparse_molecule_counts_file)\n",
    "sparse_counts_barcodes = glob.glob(sparse_counts_barcodes_file)"
   ]
  },
  {
   "cell_type": "code",
   "execution_count": 669,
   "metadata": {
    "ExecuteTime": {
     "end_time": "2020-01-27T16:03:29.129394Z",
     "start_time": "2020-01-27T16:03:29.125664Z"
    }
   },
   "outputs": [],
   "source": [
    "sparse_molecule_counts = glob.glob(sparse_molecule_counts_file)[0]\n",
    "sparse_counts_barcodes = glob.glob(sparse_counts_barcodes_file)[0]"
   ]
  },
  {
   "cell_type": "code",
   "execution_count": 670,
   "metadata": {
    "ExecuteTime": {
     "end_time": "2020-01-27T16:03:30.687272Z",
     "start_time": "2020-01-27T16:03:30.542479Z"
    }
   },
   "outputs": [],
   "source": [
    "# Barcodes\n",
    "barcodes = pd.read_csv(sparse_counts_barcodes, header=None,\n",
    "                       index_col=0).values.T[0]"
   ]
  },
  {
   "cell_type": "code",
   "execution_count": 671,
   "metadata": {
    "ExecuteTime": {
     "end_time": "2020-01-27T16:00:55.040906Z",
     "start_time": "2020-01-27T16:00:55.038255Z"
    }
   },
   "outputs": [],
   "source": [
    "name = sample"
   ]
  },
  {
   "cell_type": "code",
   "execution_count": null,
   "metadata": {
    "ExecuteTime": {
     "end_time": "2020-01-27T16:00:55.660424Z",
     "start_time": "2020-01-27T16:00:55.656396Z"
    }
   },
   "outputs": [],
   "source": [
    "# Directory to put results in\n",
    "output_dir = output_dir_path+name+\"/\"\n",
    "\n",
    "output_dir"
   ]
  },
  {
   "cell_type": "markdown",
   "metadata": {},
   "source": [
    "#### EmptyDrops computation"
   ]
  },
  {
   "cell_type": "code",
   "execution_count": null,
   "metadata": {
    "ExecuteTime": {
     "end_time": "2020-01-27T16:00:58.654104Z",
     "start_time": "2020-01-27T16:00:58.650040Z"
    }
   },
   "outputs": [],
   "source": [
    "# EmptyDrops output path\n",
    "output = output_dir + \"{}_emptyDrops.csv\".format(name)\n",
    "\n",
    "output"
   ]
  },
  {
   "cell_type": "code",
   "execution_count": null,
   "metadata": {},
   "outputs": [],
   "source": [
    "sparse_molecule_counts"
   ]
  },
  {
   "cell_type": "code",
   "execution_count": 675,
   "metadata": {},
   "outputs": [
    {
     "data": {
      "text/plain": [
       "0"
      ]
     },
     "execution_count": 675,
     "metadata": {},
     "output_type": "execute_result"
    }
   ],
   "source": [
    "# Run emptyDrops algorithm -> 0 is the succesfull exit status\n",
    "\n",
    "samplename = sparse_molecule_counts\n",
    "\n",
    "os.system(\"Rscript \" + emptyDrops + \" {} {}\".format(samplename, output))"
   ]
  },
  {
   "cell_type": "code",
   "execution_count": null,
   "metadata": {},
   "outputs": [],
   "source": [
    "emptyDrops"
   ]
  },
  {
   "cell_type": "code",
   "execution_count": 677,
   "metadata": {},
   "outputs": [],
   "source": [
    "emptydrops = pd.read_csv(output)"
   ]
  },
  {
   "cell_type": "code",
   "execution_count": 678,
   "metadata": {
    "ExecuteTime": {
     "end_time": "2020-01-27T16:03:35.282351Z",
     "start_time": "2020-01-27T16:03:35.278464Z"
    }
   },
   "outputs": [
    {
     "data": {
      "text/plain": [
       "array([120703408781662, 120703408781734, 120703408781739, ...,\n",
       "       241114608785701, 241114608786212, 241114608786661])"
      ]
     },
     "execution_count": 678,
     "metadata": {},
     "output_type": "execute_result"
    }
   ],
   "source": [
    "barcodes"
   ]
  },
  {
   "cell_type": "code",
   "execution_count": 679,
   "metadata": {},
   "outputs": [
    {
     "data": {
      "text/html": [
       "<div>\n",
       "<style scoped>\n",
       "    .dataframe tbody tr th:only-of-type {\n",
       "        vertical-align: middle;\n",
       "    }\n",
       "\n",
       "    .dataframe tbody tr th {\n",
       "        vertical-align: top;\n",
       "    }\n",
       "\n",
       "    .dataframe thead th {\n",
       "        text-align: right;\n",
       "    }\n",
       "</style>\n",
       "<table border=\"1\" class=\"dataframe\">\n",
       "  <thead>\n",
       "    <tr style=\"text-align: right;\">\n",
       "      <th></th>\n",
       "      <th>Total</th>\n",
       "      <th>LogProb</th>\n",
       "      <th>PValue</th>\n",
       "      <th>Limited</th>\n",
       "      <th>FDR</th>\n",
       "    </tr>\n",
       "  </thead>\n",
       "  <tbody>\n",
       "    <tr>\n",
       "      <th>0</th>\n",
       "      <td>4</td>\n",
       "      <td>-16.108348</td>\n",
       "      <td>0.957004</td>\n",
       "      <td>False</td>\n",
       "      <td>1.000000</td>\n",
       "    </tr>\n",
       "    <tr>\n",
       "      <th>1</th>\n",
       "      <td>5</td>\n",
       "      <td>-23.928284</td>\n",
       "      <td>0.865813</td>\n",
       "      <td>False</td>\n",
       "      <td>1.000000</td>\n",
       "    </tr>\n",
       "    <tr>\n",
       "      <th>2</th>\n",
       "      <td>1</td>\n",
       "      <td>-10.075935</td>\n",
       "      <td>0.158484</td>\n",
       "      <td>False</td>\n",
       "      <td>0.811771</td>\n",
       "    </tr>\n",
       "    <tr>\n",
       "      <th>3</th>\n",
       "      <td>6</td>\n",
       "      <td>-27.318095</td>\n",
       "      <td>0.902810</td>\n",
       "      <td>False</td>\n",
       "      <td>1.000000</td>\n",
       "    </tr>\n",
       "    <tr>\n",
       "      <th>4</th>\n",
       "      <td>3</td>\n",
       "      <td>-19.253410</td>\n",
       "      <td>0.494651</td>\n",
       "      <td>False</td>\n",
       "      <td>1.000000</td>\n",
       "    </tr>\n",
       "    <tr>\n",
       "      <th>...</th>\n",
       "      <td>...</td>\n",
       "      <td>...</td>\n",
       "      <td>...</td>\n",
       "      <td>...</td>\n",
       "      <td>...</td>\n",
       "    </tr>\n",
       "    <tr>\n",
       "      <th>415346</th>\n",
       "      <td>3</td>\n",
       "      <td>-17.183896</td>\n",
       "      <td>0.663434</td>\n",
       "      <td>False</td>\n",
       "      <td>1.000000</td>\n",
       "    </tr>\n",
       "    <tr>\n",
       "      <th>415347</th>\n",
       "      <td>1</td>\n",
       "      <td>-7.810209</td>\n",
       "      <td>0.411659</td>\n",
       "      <td>False</td>\n",
       "      <td>0.981729</td>\n",
       "    </tr>\n",
       "    <tr>\n",
       "      <th>415348</th>\n",
       "      <td>2</td>\n",
       "      <td>-6.883806</td>\n",
       "      <td>0.957004</td>\n",
       "      <td>False</td>\n",
       "      <td>1.000000</td>\n",
       "    </tr>\n",
       "    <tr>\n",
       "      <th>415349</th>\n",
       "      <td>4</td>\n",
       "      <td>-26.919769</td>\n",
       "      <td>0.357664</td>\n",
       "      <td>False</td>\n",
       "      <td>0.955560</td>\n",
       "    </tr>\n",
       "    <tr>\n",
       "      <th>415350</th>\n",
       "      <td>1</td>\n",
       "      <td>-7.013057</td>\n",
       "      <td>0.478752</td>\n",
       "      <td>False</td>\n",
       "      <td>1.000000</td>\n",
       "    </tr>\n",
       "  </tbody>\n",
       "</table>\n",
       "<p>415351 rows × 5 columns</p>\n",
       "</div>"
      ],
      "text/plain": [
       "        Total    LogProb    PValue  Limited       FDR\n",
       "0           4 -16.108348  0.957004    False  1.000000\n",
       "1           5 -23.928284  0.865813    False  1.000000\n",
       "2           1 -10.075935  0.158484    False  0.811771\n",
       "3           6 -27.318095  0.902810    False  1.000000\n",
       "4           3 -19.253410  0.494651    False  1.000000\n",
       "...       ...        ...       ...      ...       ...\n",
       "415346      3 -17.183896  0.663434    False  1.000000\n",
       "415347      1  -7.810209  0.411659    False  0.981729\n",
       "415348      2  -6.883806  0.957004    False  1.000000\n",
       "415349      4 -26.919769  0.357664    False  0.955560\n",
       "415350      1  -7.013057  0.478752    False  1.000000\n",
       "\n",
       "[415351 rows x 5 columns]"
      ]
     },
     "execution_count": 679,
     "metadata": {},
     "output_type": "execute_result"
    }
   ],
   "source": [
    "emptydrops"
   ]
  },
  {
   "cell_type": "code",
   "execution_count": 680,
   "metadata": {},
   "outputs": [],
   "source": [
    "emptydrops['cell_ID'] = barcodes\n",
    "\n",
    "both_barcodes = pd.DataFrame(barcodes)\n",
    "both_barcodes.columns = ['cell_ID']\n",
    "emptydrops = both_barcodes.merge(emptydrops,\n",
    "                                 left_on='cell_ID',\n",
    "                                 right_on='cell_ID',\n",
    "                                 how='left')"
   ]
  },
  {
   "cell_type": "code",
   "execution_count": 681,
   "metadata": {},
   "outputs": [],
   "source": [
    "output_indexed = output_dir + \"{}_emptyDrops_indexed.txt\".format(name)\n",
    "\n",
    "emptydrops.to_csv(output_indexed, index=False)"
   ]
  },
  {
   "cell_type": "code",
   "execution_count": null,
   "metadata": {},
   "outputs": [],
   "source": [
    "output_indexed"
   ]
  }
 ],
 "metadata": {
  "hide_input": false,
  "kernelspec": {
   "display_name": "Python 3",
   "language": "python",
   "name": "python3"
  },
  "language_info": {
   "codemirror_mode": {
    "name": "ipython",
    "version": 3
   },
   "file_extension": ".py",
   "mimetype": "text/x-python",
   "name": "python",
   "nbconvert_exporter": "python",
   "pygments_lexer": "ipython3",
   "version": "3.8.1"
  },
  "toc": {
   "base_numbering": 1,
   "nav_menu": {},
   "number_sections": true,
   "sideBar": true,
   "skip_h1_title": false,
   "title_cell": "Table of Contents",
   "title_sidebar": "Contents",
   "toc_cell": false,
   "toc_position": {},
   "toc_section_display": true,
   "toc_window_display": false
  },
  "varInspector": {
   "cols": {
    "lenName": 16,
    "lenType": 16,
    "lenVar": 40
   },
   "kernels_config": {
    "python": {
     "delete_cmd_postfix": "",
     "delete_cmd_prefix": "del ",
     "library": "var_list.py",
     "varRefreshCmd": "print(var_dic_list())"
    },
    "r": {
     "delete_cmd_postfix": ") ",
     "delete_cmd_prefix": "rm(",
     "library": "var_list.r",
     "varRefreshCmd": "cat(var_dic_list()) "
    }
   },
   "types_to_exclude": [
    "module",
    "function",
    "builtin_function_or_method",
    "instance",
    "_Feature"
   ],
   "window_display": false
  }
 },
 "nbformat": 4,
 "nbformat_minor": 2
}
