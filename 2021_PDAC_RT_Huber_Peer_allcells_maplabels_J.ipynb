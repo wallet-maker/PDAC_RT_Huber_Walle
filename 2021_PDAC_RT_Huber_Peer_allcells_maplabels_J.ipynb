{
 "cells": [
  {
   "cell_type": "markdown",
   "id": "1447c3d4",
   "metadata": {},
   "source": [
    "# load packages"
   ]
  },
  {
   "cell_type": "code",
   "execution_count": 1,
   "id": "1ce2819c",
   "metadata": {},
   "outputs": [],
   "source": [
    "DATA_DIR = '/data/peer/wallet/Jupyter/PAAD-X-Peng_Sun-X-2019-X-10.1038s41422-019-0195-y-X-Jupyter/output_data/'"
   ]
  },
  {
   "cell_type": "code",
   "execution_count": 2,
   "id": "d175d47b",
   "metadata": {},
   "outputs": [],
   "source": [
    "# import packages \n",
    "import scanpy as sc\n",
    "import scanpy.external as sce\n",
    "import anndata as anndata\n",
    "from anndata import AnnData\n",
    "import time\n",
    "import os\n",
    "import numpy as np\n",
    "import seaborn as sns\n",
    "import pandas as pd\n",
    "import re\n",
    "import h5py\n",
    "import scipy\n",
    "import matplotlib\n",
    "import matplotlib.pyplot as plt\n",
    "import matplotlib.gridspec as gridspec\n",
    "from matplotlib.colors import LinearSegmentedColormap\n",
    "import matplotlib.patches as patches\n",
    "import matplotlib.colors as colors\n",
    "import matplotlib.font_manager\n",
    "\n",
    "# other packages\n",
    "import glob\n",
    "from collections import OrderedDict\n",
    "from scipy.sparse import csr_matrix\n",
    "#import diffxpy.api as de\n",
    "from scanpy.external.pp import magic\n",
    "from scipy.stats import zscore\n",
    "import scipy.cluster.hierarchy as hc\n",
    "from statistics import median\n",
    "import math\n",
    "from typing import Union\n",
    "import phenograph\n",
    "import numpy.matlib\n",
    "\n",
    "from kneed import KneeLocator\n"
   ]
  },
  {
   "cell_type": "code",
   "execution_count": 3,
   "id": "d8f00553",
   "metadata": {},
   "outputs": [],
   "source": [
    "#custom libraries\n",
    "from scrnaseq_preprocessing_utils import *"
   ]
  },
  {
   "cell_type": "code",
   "execution_count": 4,
   "id": "f5ead8c3",
   "metadata": {},
   "outputs": [],
   "source": [
    "#set style\n",
    "sns.set_style('white')\n",
    "# define colors\n",
    "color_map_clusters_nogrey = [\"#FFFF00\", \"#1CE6FF\", \"#FF34FF\", \"#FF4A46\", \"#008941\", \"#006FA6\", \"#A30059\", \"#7A4900\", \"#0000A6\", \"#63FFAC\", \"#B79762\", \"#004D43\", \"#8FB0FF\", \"#997D87\",\n",
    "\"#5A0007\", \"#809693\", \"#1B4400\", \"#4FC601\", \"#3B5DFF\", \"#4A3B53\", \"#FF2F80\",\n",
    "\"#61615A\", \"#BA0900\", \"#6B7900\", \"#00C2A0\", \"#FFAA92\", \"#FF90C9\", \"#B903AA\", \"#D16100\",\n",
    "\"#DDEFFF\", \"#000035\", \"#7B4F4B\", \"#A1C299\", \"#300018\", \"#0AA6D8\", \"#013349\", \"#00846F\",\n",
    "\"#372101\", \"#FFB500\", \"#C2FFED\", \"#A079BF\", \"#CC0744\", \"#C0B9B2\", \"#C2FF99\", \"#001E09\",\n",
    "\"#00489C\", \"#6F0062\", \"#0CBD66\", \"#EEC3FF\", \"#456D75\", \"#B77B68\", \"#7A87A1\", \"#788D66\",\n",
    "\"#885578\", \"#FAD09F\", \"#FF8A9A\", \"#D157A0\", \"#BEC459\", \"#456648\", \"#0086ED\", \"#886F4C\",\n",
    "\"#34362D\", \"#B4A8BD\", \"#00A6AA\", \"#452C2C\", \"#636375\", \"#A3C8C9\", \"#FF913F\", \"#938A81\",\n",
    "\"#575329\", \"#00FECF\", \"#B05B6F\", \"#8CD0FF\", \"#3B9700\", \"#04F757\", \"#C8A1A1\", \"#1E6E00\",\n",
    "\"#7900D7\", \"#A77500\", \"#6367A9\", \"#A05837\", \"#6B002C\", \"#772600\", \"#D790FF\", \"#9B9700\",\n",
    "\"#549E79\", \"#FFF69F\", \"#201625\", \"#72418F\", \"#BC23FF\", \"#99ADC0\", \"#3A2465\", \"#922329\",\n",
    "\"#5B4534\", \"#FDE8DC\", \"#404E55\", \"#0089A3\", \"#CB7E98\", \"#A4E804\", \"#324E72\", \"#6A3A4C\"]"
   ]
  },
  {
   "cell_type": "markdown",
   "id": "b1140dce",
   "metadata": {},
   "source": [
    "# annotate cells"
   ]
  },
  {
   "cell_type": "code",
   "execution_count": 55,
   "id": "8879db90",
   "metadata": {},
   "outputs": [],
   "source": [
    "\n",
    "adata_path = '/data/peer/wallet/Jupyter/PAAD-X-Peng_Sun-X-2019-X-10.1038s41422-019-0195-y-X-Jupyter/output_data/2021_PDAC_RT_Huber_Walle_raw_data_annotated_emptydrops_noribo_nomito_clustered_nodrops_doublets_nodoubs_libsize_log1p_clustered_10000hv_genes_curated_marker_genes_210216_reanalysis.h5ad'\n",
    "adata_save_path = '/data/peer/wallet/Jupyter/PAAD-X-Peng_Sun-X-2019-X-10.1038s41422-019-0195-y-X-Jupyter/output_data/2021_PDAC_RT_Huber_Walle_raw_data_annotated_emptydrops_noribo_nomito_clustered_nodrops_doublets_nodoubs_libsize_log1p_clustered_10000hv_genes_curated_marker_genes_210216_reanalysis_forcytopus.h5ad'\n",
    "csv_save_path = '/data/peer/wallet/Jupyter/PAAD-X-Peng_Sun-X-2019-X-10.1038s41422-019-0195-y-X-Jupyter/output_data/PAAD-X-Peng_Sun-X-2019-X-10.1038s41422-019-0195_annotations.csv'\n",
    "#annotations\n",
    "adata_B_path = DATA_DIR + '2021_PDAC_RT_Huber_Walle_B_scran_raw_counts_annotated_5000hv_clustered_v2_230125_annotated.h5ad'\n",
    "adata_M_path = DATA_DIR + '2021_PDAC_RT_Huber_Walle_M_scran_raw_counts_annotated_5000hv_clustered_v2_230125_annotated.h5ad'\n",
    "adata_TNK_path = DATA_DIR + '2021_PDAC_RT_Huber_Walle_TNK_scran_raw_counts_annotated_5000hv_clustered_v2_230125_annotated.h5ad'\n",
    "\n",
    "\n",
    "adata_paths = [adata_B_path, adata_M_path, adata_TNK_path] \n",
    "\n",
    "make_raw= False\n"
   ]
  },
  {
   "cell_type": "code",
   "execution_count": 6,
   "id": "8da163bd",
   "metadata": {},
   "outputs": [
    {
     "data": {
      "text/plain": [
       "Index(['236288388524979-T15', '196174352334259-N09', '227844233476963-T19',\n",
       "       '235000971515614-T23', '239932640480493-T23', '155842596263860-T03',\n",
       "       '125239746026742-T18', '204762107788076-T22', '134376349133724-T13',\n",
       "       '236785384151899-T20',\n",
       "       ...\n",
       "       '120797925625246-T09', '166288091176166-T15', '161893219780323-T18',\n",
       "       '120864485590886-T10', '130185503586669-T14', '234992247389099-N08',\n",
       "       '133854511090019-N02', '169014034020203-T11', '126836650171619-N11',\n",
       "       '129565717587827-T17'],\n",
       "      dtype='object', name='cell_ID', length=152991)"
      ]
     },
     "execution_count": 6,
     "metadata": {},
     "output_type": "execute_result"
    }
   ],
   "source": [
    "#load adata\n",
    "adata = sc.read(adata_path)\n",
    "adata_annotations = []\n",
    "\n",
    "for i in adata_paths:\n",
    "    adata_subset = sc.read(i)\n",
    "    adata_annotations.append(adata_subset)\n",
    "    del adata_subset\n",
    "\n",
    "adata.obs_names #check whether format is barcode_sampleid"
   ]
  },
  {
   "cell_type": "code",
   "execution_count": 7,
   "id": "82e383f6",
   "metadata": {},
   "outputs": [
    {
     "name": "stdout",
     "output_type": "stream",
     "text": [
      "  (0, 16154)\t1.0\n",
      "  (0, 17325)\t1.0\n",
      "  (0, 12779)\t1.0\n",
      "  (0, 24301)\t1.0\n",
      "  (0, 7167)\t1.0\n",
      "  (0, 13824)\t2.0\n",
      "  (0, 23207)\t2.0\n",
      "  (0, 15562)\t1.0\n",
      "  (0, 8281)\t1.0\n",
      "  (0, 21122)\t1.0\n",
      "  (0, 6270)\t1.0\n",
      "  (0, 20863)\t1.0\n",
      "  (0, 9379)\t6.0\n",
      "  (0, 1649)\t1.0\n",
      "  (0, 11531)\t115.0\n",
      "  (0, 12814)\t8.0\n",
      "  (0, 12600)\t1.0\n",
      "  (0, 12298)\t1.0\n",
      "  (0, 8643)\t1.0\n",
      "  (0, 2844)\t1.0\n",
      "  (0, 1755)\t1.0\n",
      "  (0, 2100)\t1.0\n",
      "  (0, 19503)\t2.0\n",
      "  (0, 1725)\t4.0\n",
      "  (0, 15063)\t1.0\n",
      "  :\t:\n",
      "  (152990, 19905)\t1.0\n",
      "  (152990, 1831)\t1.0\n",
      "  (152990, 5565)\t1.0\n",
      "  (152990, 15047)\t1.0\n",
      "  (152990, 23580)\t2.0\n",
      "  (152990, 6770)\t1.0\n",
      "  (152990, 22437)\t3.0\n",
      "  (152990, 1836)\t1.0\n",
      "  (152990, 8202)\t2.0\n",
      "  (152990, 1895)\t1.0\n",
      "  (152990, 3578)\t1.0\n",
      "  (152990, 14427)\t1.0\n",
      "  (152990, 3596)\t4.0\n",
      "  (152990, 20329)\t3.0\n",
      "  (152990, 4226)\t2.0\n",
      "  (152990, 23220)\t1.0\n",
      "  (152990, 19550)\t1.0\n",
      "  (152990, 12540)\t1.0\n",
      "  (152990, 11395)\t1.0\n",
      "  (152990, 9817)\t2.0\n",
      "  (152990, 15741)\t1.0\n",
      "  (152990, 10059)\t1.0\n",
      "  (152990, 7273)\t1.0\n",
      "  (152990, 15559)\t1.0\n",
      "  (152990, 3905)\t1.0\n"
     ]
    }
   ],
   "source": [
    "print(adata.raw.X)"
   ]
  },
  {
   "cell_type": "code",
   "execution_count": 8,
   "id": "2253ae69",
   "metadata": {},
   "outputs": [
    {
     "data": {
      "text/plain": [
       "[AnnData object with n_obs × n_vars = 4832 × 14068\n",
       "     obs: 'n_genes_by_counts', 'log1p_n_genes_by_counts', 'total_counts', 'log1p_total_counts', 'pct_counts_in_top_50_genes', 'pct_counts_in_top_100_genes', 'pct_counts_in_top_200_genes', 'pct_counts_in_top_500_genes', 'batch', 'primary_tumor', 'Limited', 'PValue_emptydrops', 'FDR_emptydrops', 'total_molecules', 'percent_mito', 'pheno_var_k10', 'pheno_var_k20', 'pheno_var_k30', 'pheno_var_k40', 'pheno_var_k50', 'pheno_var_k60', 'pheno_var_k70', 'pheno_var_k80', 'pheno_var_k90', 'pheno_var_k100', 'major_subsets', 'pheno_B_k10', 'pheno_B_k20', 'pheno_B_k30', 'pheno_B_k40', 'pheno_B_k50', 'pheno_B_k60', 'pheno_B_k70', 'pheno_B_k80', 'pheno_B_k90', 'pheno_B_k100', 'pheno_var_B_k10', 'pheno_var_B_k20', 'pheno_var_B_k30', 'pheno_var_B_k40', 'pheno_var_B_k50', 'pheno_var_B_k60', 'pheno_var_B_k70', 'pheno_var_B_k80', 'pheno_var_B_k90', 'pheno_var_B_k100', 'pheno_annotate', 'annotation_level_0', 'annotation_level_1', 'annotation_level_2', 'annotation'\n",
       "     var: 'n_cells_by_counts', 'mean_counts', 'log1p_mean_counts', 'pct_dropout_by_counts', 'total_counts', 'log1p_total_counts', 'highly_variable', 'highly_variable_rank', 'means', 'variances', 'variances_norm'\n",
       "     uns: 'hvg', 'neighbors', 'pca', 'tsne', 'umap'\n",
       "     obsm: 'X_pca', 'X_tsne', 'X_umap'\n",
       "     varm: 'PCs'\n",
       "     layers: 'imputed', 'raw'\n",
       "     obsp: 'connectivities', 'distances',\n",
       " AnnData object with n_obs × n_vars = 17023 × 16682\n",
       "     obs: 'n_genes_by_counts', 'log1p_n_genes_by_counts', 'total_counts', 'log1p_total_counts', 'pct_counts_in_top_50_genes', 'pct_counts_in_top_100_genes', 'pct_counts_in_top_200_genes', 'pct_counts_in_top_500_genes', 'batch', 'primary_tumor', 'Limited', 'PValue_emptydrops', 'FDR_emptydrops', 'total_molecules', 'percent_mito', 'pheno_var_k10', 'pheno_var_k20', 'pheno_var_k30', 'pheno_var_k40', 'pheno_var_k50', 'pheno_var_k60', 'pheno_var_k70', 'pheno_var_k80', 'pheno_var_k90', 'pheno_var_k100', 'major_subsets', 'pheno_var_M_k10', 'pheno_var_M_k20', 'pheno_var_M_k30', 'pheno_var_M_k40', 'pheno_var_M_k50', 'pheno_M_k60', 'pheno_var_M_k70', 'pheno_var_M_k80', 'pheno_var_M_k90', 'pheno_var_M_k100', 'annotation', 'hierarchical_query', 'CD4-T', 'DC', 'pheno_annotate'\n",
       "     var: 'n_cells_by_counts', 'mean_counts', 'log1p_mean_counts', 'pct_dropout_by_counts', 'total_counts', 'log1p_total_counts', 'highly_variable', 'highly_variable_rank', 'means', 'variances', 'variances_norm'\n",
       "     uns: 'DC_colors', 'annotation_colors', 'hvg', 'neighbors', 'pca', 'pheno_var_M_k10_colors', 'pheno_var_M_k30_colors', 'tsne', 'umap'\n",
       "     obsm: 'X_pca', 'X_tsne', 'X_umap'\n",
       "     varm: 'PCs'\n",
       "     layers: 'imputed', 'raw'\n",
       "     obsp: 'connectivities', 'distances',\n",
       " AnnData object with n_obs × n_vars = 20685 × 16113\n",
       "     obs: 'n_genes_by_counts', 'log1p_n_genes_by_counts', 'total_counts', 'log1p_total_counts', 'pct_counts_in_top_50_genes', 'pct_counts_in_top_100_genes', 'pct_counts_in_top_200_genes', 'pct_counts_in_top_500_genes', 'batch', 'primary_tumor', 'Limited', 'PValue_emptydrops', 'FDR_emptydrops', 'total_molecules', 'percent_mito', 'pheno_var_k10', 'pheno_var_k20', 'pheno_var_k30', 'pheno_var_k40', 'pheno_var_k50', 'pheno_var_k60', 'pheno_var_k70', 'pheno_var_k80', 'pheno_var_k90', 'pheno_var_k100', 'major_subsets', 'pheno_TNK_k10', 'pheno_TNK_k20', 'pheno_TNK_k30', 'pheno_TNK_k40', 'pheno_TNK_k50', 'pheno_TNK_k60', 'pheno_TNK_k70', 'pheno_TNK_k80', 'pheno_TNK_k90', 'pheno_TNK_k100', 'pheno_var_TNK_k10', 'pheno_var_TNK_k20', 'pheno_var_TNK_k30', 'pheno_var_TNK_k40', 'pheno_var_TNK_k50', 'pheno_var_TNK_k70', 'pheno_var_TNK_k80', 'pheno_var_TNK_k90', 'pheno_var_TNK_k100', 'annotation', 'hierarchical_query', 'CD4-T', 'CD8-T', 'NK-ILC', 'CD4-T-memory', 'CD8-T-memory', 'pheno_annotate'\n",
       "     var: 'n_cells_by_counts', 'mean_counts', 'log1p_mean_counts', 'pct_dropout_by_counts', 'total_counts', 'log1p_total_counts', 'highly_variable', 'highly_variable_rank', 'means', 'variances', 'variances_norm'\n",
       "     uns: 'CD4-T-memory_colors', 'CD4-T_colors', 'CD8-T-memory_colors', 'CD8-T_colors', 'NK-ILC_colors', 'annotation_colors', 'hvg', 'neighbors', 'pca', 'pheno_var_TNK_k20_colors', 'tsne', 'umap'\n",
       "     obsm: 'X_pca', 'X_tsne', 'X_umap'\n",
       "     varm: 'PCs'\n",
       "     layers: 'imputed', 'raw'\n",
       "     obsp: 'connectivities', 'distances']"
      ]
     },
     "execution_count": 8,
     "metadata": {},
     "output_type": "execute_result"
    }
   ],
   "source": [
    "adata_annotations"
   ]
  },
  {
   "cell_type": "code",
   "execution_count": 9,
   "id": "45d14b93",
   "metadata": {},
   "outputs": [],
   "source": [
    "#retrieve annotations from .obs element and convert into dict\n",
    "\n",
    "annotation_subtypes_2 = []\n",
    "annotation_subtypes_3 = []\n",
    "\n",
    "for i in adata_annotations:\n",
    "    annotation_subtypes_2.append(i.obs['annotation'])\n",
    "    annotation_subtypes_3.append(i.obs['pheno_annotate'])\n",
    "    \n",
    "annotation_subtype_dicts_1 = []\n",
    "\n",
    "\n",
    "annotation_subtype_dicts_2 = []\n",
    "    \n",
    "for i in annotation_subtypes_2:\n",
    "    annotation_subtype_2_dict = i.to_dict()\n",
    "    annotation_subtype_dicts_2.append(annotation_subtype_2_dict)\n",
    "    \n",
    "    \n",
    "annotation_subtype_dicts_3 = []\n",
    "    \n",
    "for i in annotation_subtypes_3:\n",
    "    annotation_subtype_3_dict = i.to_dict()\n",
    "    annotation_subtype_dicts_3.append(annotation_subtype_3_dict)\n",
    "    \n"
   ]
  },
  {
   "cell_type": "code",
   "execution_count": 10,
   "id": "1a32f714",
   "metadata": {},
   "outputs": [],
   "source": [
    "#concatenate dictionaries order matters! sutype 1\n",
    "    \n",
    "annotation_subtype_dict_2 = {}\n",
    "\n",
    "for i in annotation_subtype_dicts_2:\n",
    "    annotation_subtype_dict_2.update(i)\n",
    "        \n",
    "annotation_subtype_dict_3 = {}\n",
    "\n",
    "for i in annotation_subtype_dicts_3:\n",
    "    annotation_subtype_dict_3.update(i)   \n"
   ]
  },
  {
   "cell_type": "code",
   "execution_count": 11,
   "id": "9134d827",
   "metadata": {},
   "outputs": [],
   "source": [
    "adata.obs['annotation_cytopus'] = adata.obs_names.map(annotation_subtype_dict_2)\n",
    "adata.obs['pheno_annotate'] = adata.obs_names.map(annotation_subtype_dict_3)"
   ]
  },
  {
   "cell_type": "markdown",
   "id": "e7a846c4",
   "metadata": {},
   "source": [
    "## add non-immune annotaitons"
   ]
  },
  {
   "cell_type": "code",
   "execution_count": 20,
   "id": "c1d3f1ba",
   "metadata": {},
   "outputs": [],
   "source": [
    "leuko_list = [15,24,0,13,1,21]\n",
    "leuko = ['leukocyte']*len(leuko_list)\n",
    "fibro_list = [5,26,19,9,16]\n",
    "fibro = ['fibroblast and myocytes']*len(fibro_list)\n",
    "endothelial_list = [14,20,4,7]\n",
    "endothelial = ['endothelial cell']*len(endothelial_list)\n",
    "epithelial_list = [18,25,11,3,6,8,17,10,23,2,12]\n",
    "epithelial = ['epithelial cell']*len(epithelial_list)\n",
    "endocrine_list = [22]\n",
    "endocrine = ['neuroendocrine']*len(endocrine_list)\n",
    "nan_list = []\n",
    "nan = ['NaN']*len(nan_list)"
   ]
  },
  {
   "cell_type": "code",
   "execution_count": 21,
   "id": "a7c558ab",
   "metadata": {},
   "outputs": [],
   "source": [
    "#create dictionaries\n",
    "dict0 = dict(zip(leuko_list, leuko))\n",
    "dict1 = dict(zip(fibro_list, fibro))\n",
    "dict2 = dict(zip(endothelial_list, endothelial))\n",
    "dict3 = dict(zip(epithelial_list, epithelial))\n",
    "dict4 = dict(zip(endocrine_list, endocrine))\n",
    "\n",
    "\n",
    "\n",
    "# merging of dictionaries\n",
    "dict1.update(dict0)\n",
    "dict1.update(dict2)\n",
    "dict1.update(dict3)\n",
    "dict1.update(dict4)\n",
    "\n",
    "\n",
    "TIL_classes_pheno_list_ndf_dict = dict1"
   ]
  },
  {
   "cell_type": "code",
   "execution_count": 22,
   "id": "b8068a4d",
   "metadata": {},
   "outputs": [
    {
     "data": {
      "text/plain": [
       "{5: 'fibroblast and myocytes',\n",
       " 26: 'fibroblast and myocytes',\n",
       " 19: 'fibroblast and myocytes',\n",
       " 9: 'fibroblast and myocytes',\n",
       " 16: 'fibroblast and myocytes',\n",
       " 15: 'leukocyte',\n",
       " 24: 'leukocyte',\n",
       " 0: 'leukocyte',\n",
       " 13: 'leukocyte',\n",
       " 1: 'leukocyte',\n",
       " 21: 'leukocyte',\n",
       " 14: 'endothelial cell',\n",
       " 20: 'endothelial cell',\n",
       " 4: 'endothelial cell',\n",
       " 7: 'endothelial cell',\n",
       " 18: 'epithelial cell',\n",
       " 25: 'epithelial cell',\n",
       " 11: 'epithelial cell',\n",
       " 3: 'epithelial cell',\n",
       " 6: 'epithelial cell',\n",
       " 8: 'epithelial cell',\n",
       " 17: 'epithelial cell',\n",
       " 10: 'epithelial cell',\n",
       " 23: 'epithelial cell',\n",
       " 2: 'epithelial cell',\n",
       " 12: 'epithelial cell',\n",
       " 22: 'neuroendocrine'}"
      ]
     },
     "execution_count": 22,
     "metadata": {},
     "output_type": "execute_result"
    }
   ],
   "source": [
    "TIL_classes_pheno_list_ndf_dict"
   ]
  },
  {
   "cell_type": "code",
   "execution_count": 35,
   "id": "a82d5b38",
   "metadata": {},
   "outputs": [],
   "source": [
    "new_pheno = []\n",
    "new_annotations = []\n",
    "\n",
    "old_pheno = list(adata.obs['pheno_annotate'])\n",
    "old_annotations = list(adata.obs['annotation_cytopus'])\n",
    "\n",
    "for i,v in enumerate(list(adata.obs['pheno_var_k60'])):\n",
    "    if TIL_classes_pheno_list_ndf_dict[v] == 'leukocyte':\n",
    "        new_pheno.append(old_pheno[i])\n",
    "        new_annotations.append(old_annotations[i])\n",
    "    else:\n",
    "        new_pheno.append('all_'+str(v))\n",
    "        new_annotations.append(TIL_classes_pheno_list_ndf_dict[v])"
   ]
  },
  {
   "cell_type": "code",
   "execution_count": 37,
   "id": "a2132d37",
   "metadata": {},
   "outputs": [
    {
     "data": {
      "text/plain": [
       "{'B_0',\n",
       " 'B_1',\n",
       " 'B_2',\n",
       " 'B_3',\n",
       " 'B_4',\n",
       " 'B_5',\n",
       " 'B_6',\n",
       " 'M_0',\n",
       " 'M_1',\n",
       " 'M_10',\n",
       " 'M_11',\n",
       " 'M_12',\n",
       " 'M_13',\n",
       " 'M_14',\n",
       " 'M_15',\n",
       " 'M_16',\n",
       " 'M_17',\n",
       " 'M_18',\n",
       " 'M_19',\n",
       " 'M_2',\n",
       " 'M_20',\n",
       " 'M_21',\n",
       " 'M_3',\n",
       " 'M_4',\n",
       " 'M_5',\n",
       " 'M_6',\n",
       " 'M_7',\n",
       " 'M_8',\n",
       " 'M_9',\n",
       " 'M_pheno_var_k10_38',\n",
       " 'TNK_0',\n",
       " 'TNK_1',\n",
       " 'TNK_10',\n",
       " 'TNK_11',\n",
       " 'TNK_12',\n",
       " 'TNK_13',\n",
       " 'TNK_14',\n",
       " 'TNK_15',\n",
       " 'TNK_16',\n",
       " 'TNK_17',\n",
       " 'TNK_18',\n",
       " 'TNK_19',\n",
       " 'TNK_2',\n",
       " 'TNK_20',\n",
       " 'TNK_21',\n",
       " 'TNK_22',\n",
       " 'TNK_23',\n",
       " 'TNK_24',\n",
       " 'TNK_25',\n",
       " 'TNK_3',\n",
       " 'TNK_4',\n",
       " 'TNK_5',\n",
       " 'TNK_6',\n",
       " 'TNK_7',\n",
       " 'TNK_8',\n",
       " 'TNK_9',\n",
       " 'all_10',\n",
       " 'all_11',\n",
       " 'all_12',\n",
       " 'all_14',\n",
       " 'all_16',\n",
       " 'all_17',\n",
       " 'all_18',\n",
       " 'all_19',\n",
       " 'all_2',\n",
       " 'all_20',\n",
       " 'all_22',\n",
       " 'all_23',\n",
       " 'all_25',\n",
       " 'all_26',\n",
       " 'all_3',\n",
       " 'all_4',\n",
       " 'all_5',\n",
       " 'all_6',\n",
       " 'all_7',\n",
       " 'all_8',\n",
       " 'all_9',\n",
       " nan}"
      ]
     },
     "execution_count": 37,
     "metadata": {},
     "output_type": "execute_result"
    }
   ],
   "source": [
    "set(new_pheno)"
   ]
  },
  {
   "cell_type": "code",
   "execution_count": 38,
   "id": "0cfac467",
   "metadata": {},
   "outputs": [
    {
     "data": {
      "text/plain": [
       "{'B-T_doublet',\n",
       " 'B-memory-non-switched',\n",
       " 'B-memory-switched',\n",
       " 'B-naive',\n",
       " 'CD4-T-naive',\n",
       " 'CD4-TCM',\n",
       " 'CD4-TRM-TH17',\n",
       " 'CD4-TRM_terminally_exhausted',\n",
       " 'CD56bright-NK',\n",
       " 'CD56dim-NK',\n",
       " 'CD8-T',\n",
       " 'CD8-T-KLRG1neg-effector_nonexhausted',\n",
       " 'CD8-T-KLRG1pos-effector_nonexhausted',\n",
       " 'CD8-T-KLRG1pos-effector_preexhausted',\n",
       " 'CD8-TRM_nonexhausted',\n",
       " 'CD8-TRM_terminally_exhausted',\n",
       " 'GC-B',\n",
       " 'GC-B_proliferating',\n",
       " 'Gr-MDC',\n",
       " 'ILC3-NCR2pos',\n",
       " 'Mac',\n",
       " 'PV-Mac',\n",
       " 'T',\n",
       " 'T_proliferating',\n",
       " 'Treg',\n",
       " 'c-mono',\n",
       " 'cDC1',\n",
       " 'cDC2',\n",
       " 'cDC3',\n",
       " 'endothelial cell',\n",
       " 'epithelial cell',\n",
       " 'fibroblast and myocytes',\n",
       " nan,\n",
       " 'nc-mono',\n",
       " 'neuroendocrine',\n",
       " 'p-DC'}"
      ]
     },
     "execution_count": 38,
     "metadata": {},
     "output_type": "execute_result"
    }
   ],
   "source": [
    "set(new_annotations)"
   ]
  },
  {
   "cell_type": "code",
   "execution_count": 39,
   "id": "698cb149",
   "metadata": {},
   "outputs": [],
   "source": [
    "adata.obs['annotations_cytopus_final'] = new_annotations"
   ]
  },
  {
   "cell_type": "code",
   "execution_count": 40,
   "id": "cdb0248d",
   "metadata": {},
   "outputs": [],
   "source": [
    "adata.obs['pheno_annotate_final'] = new_pheno"
   ]
  },
  {
   "cell_type": "code",
   "execution_count": 41,
   "id": "565d666a",
   "metadata": {},
   "outputs": [
    {
     "data": {
      "text/plain": [
       "annotations_cytopus_final\n",
       "epithelial cell                         62871\n",
       "endothelial cell                        24038\n",
       "fibroblast and myocytes                 22081\n",
       "Mac                                     11487\n",
       "CD8-T-KLRG1neg-effector_nonexhausted     5362\n",
       "CD8-T-KLRG1pos-effector_preexhausted     4620\n",
       "Treg                                     2791\n",
       "c-mono                                   2191\n",
       "CD4-T-naive                              2176\n",
       "CD8-TRM_nonexhausted                     2034\n",
       "B-memory-switched                        1464\n",
       "B-naive                                  1440\n",
       "neuroendocrine                           1037\n",
       "cDC2                                     1030\n",
       "CD4-TCM                                   877\n",
       "CD8-T                                     718\n",
       "CD56dim-NK                                700\n",
       "B-memory-non-switched                     603\n",
       "CD8-T-KLRG1pos-effector_nonexhausted      574\n",
       "CD56bright-NK                             559\n",
       "CD4-TRM-TH17                              536\n",
       "GC-B_proliferating                        512\n",
       "GC-B                                      479\n",
       "T_proliferating                           417\n",
       "PV-Mac                                    397\n",
       "CD4-TRM_terminally_exhausted              356\n",
       "B-T_doublet                               334\n",
       "CD8-TRM_terminally_exhausted              225\n",
       "nc-mono                                   151\n",
       "ILC3-NCR2pos                              123\n",
       "Gr-MDC                                    114\n",
       "T                                          89\n",
       "cDC3                                       79\n",
       "p-DC                                       64\n",
       "cDC1                                       38\n",
       "Name: count, dtype: int64"
      ]
     },
     "execution_count": 41,
     "metadata": {},
     "output_type": "execute_result"
    }
   ],
   "source": [
    "adata.obs['annotations_cytopus_final'].value_counts()"
   ]
  },
  {
   "cell_type": "code",
   "execution_count": 43,
   "id": "5ee0924c",
   "metadata": {},
   "outputs": [
    {
     "data": {
      "text/plain": [
       "pheno_annotate_final\n",
       "all_2                 12559\n",
       "all_3                 10340\n",
       "all_4                  9537\n",
       "all_5                  9524\n",
       "all_6                  8771\n",
       "                      ...  \n",
       "M_19                    114\n",
       "TNK_25                   89\n",
       "M_20                     79\n",
       "M_21                     64\n",
       "M_pheno_var_k10_38       38\n",
       "Name: count, Length: 77, dtype: int64"
      ]
     },
     "execution_count": 43,
     "metadata": {},
     "output_type": "execute_result"
    }
   ],
   "source": [
    "adata.obs['pheno_annotate_final'].value_counts()"
   ]
  },
  {
   "cell_type": "code",
   "execution_count": 44,
   "id": "bf176486",
   "metadata": {},
   "outputs": [
    {
     "data": {
      "text/plain": [
       "View of AnnData object with n_obs × n_vars = 424 × 20962\n",
       "    obs: 'batch', 'primary_tumor', 'LogProb_emptydrops', 'PValue_emptydrops', 'FDR_emptydrops', 'Limited', 'total_molecules', 'n_genes', 'n_genes_by_counts', 'log1p_n_genes_by_counts', 'total_counts', 'log1p_total_counts', 'pct_counts_in_top_50_genes', 'pct_counts_in_top_100_genes', 'pct_counts_in_top_200_genes', 'pct_counts_in_top_500_genes', 'percent_mito', 'n_counts', 'pheno', 'true_cell_emptydrops', 'empty_droplet_sig', 'doublets', 'pheno_k10', 'pheno_k20', 'pheno_k30', 'pheno_k40', 'pheno_k50', 'pheno_k60', 'pheno_k70', 'pheno_k80', 'pheno_k90', 'pheno_k100', 'pheno_var_k10', 'pheno_var_k20', 'pheno_var_k30', 'pheno_var_k40', 'pheno_var_k50', 'pheno_var_k60', 'pheno_var_k70', 'pheno_var_k80', 'pheno_var_k90', 'pheno_var_k100', 'annotation_cytopus', 'pheno_annotate', 'annotations_cytopus_final', 'pheno_annotate_final'\n",
       "    var: 'n_cells', 'n_cells_by_counts', 'mean_counts', 'log1p_mean_counts', 'pct_dropout_by_counts', 'total_counts', 'log1p_total_counts', 'highly_variable', 'highly_variable_rank', 'means', 'variances', 'variances_norm'\n",
       "    uns: 'Limited_colors', 'batch_colors', 'doublets_colors', 'hvg', 'neighbors', 'pca', 'pheno_colors', 'true_cell_emptydrops_colors', 'umap'\n",
       "    obsm: 'X_pca', 'X_tsne', 'X_umap'\n",
       "    varm: 'PCs'\n",
       "    layers: 'imputed', 'raw'\n",
       "    obsp: 'connectivities', 'distances'"
      ]
     },
     "execution_count": 44,
     "metadata": {},
     "output_type": "execute_result"
    }
   ],
   "source": [
    "adata[adata.obs['pheno_annotate_final'].isna()]"
   ]
  },
  {
   "cell_type": "code",
   "execution_count": 45,
   "id": "77fae9dd",
   "metadata": {},
   "outputs": [
    {
     "name": "stdout",
     "output_type": "stream",
     "text": [
      "mapped annotations: {'CD8-T', 'p-DC', 'CD56bright-NK', 'T_proliferating', 'CD4-TRM-TH17', 'Gr-MDC', 'CD8-T-KLRG1neg-effector_nonexhausted', 'B-memory-non-switched', 'GC-B_proliferating', 'CD4-TRM_terminally_exhausted', 'cDC1', nan, 'Treg', 'T', 'CD8-TRM_nonexhausted', 'GC-B', 'B-memory-switched', 'Mac', 'CD8-T-KLRG1pos-effector_preexhausted', 'nc-mono', 'CD8-T-KLRG1pos-effector_nonexhausted', 'B-naive', 'c-mono', 'CD8-TRM_terminally_exhausted', 'ILC3-NCR2pos', 'CD4-TCM', 'CD56dim-NK', 'CD4-T-naive', 'B-T_doublet', 'PV-Mac', 'cDC3', 'cDC2'}\n"
     ]
    }
   ],
   "source": [
    "print('mapped annotations:', set(adata.obs['annotation_cytopus']))"
   ]
  },
  {
   "cell_type": "code",
   "execution_count": 46,
   "id": "a743bcc9",
   "metadata": {},
   "outputs": [
    {
     "name": "stdout",
     "output_type": "stream",
     "text": [
      "mapped pheno for annotations: {'M_16', 'M_6', 'M_8', 'TNK_6', 'TNK_0', 'TNK_21', 'M_13', 'TNK_10', 'B_3', 'M_7', 'TNK_12', 'TNK_7', 'TNK_18', 'M_21', 'TNK_15', 'M_17', 'M_9', 'M_5', 'TNK_19', 'M_0', 'TNK_5', 'TNK_3', 'B_1', 'M_19', 'TNK_9', 'B_0', 'M_20', 'TNK_11', 'M_4', 'TNK_17', nan, 'TNK_4', 'TNK_25', 'M_11', 'M_18', 'M_15', 'TNK_8', 'B_6', 'M_12', 'B_2', 'M_3', 'TNK_20', 'TNK_13', 'TNK_23', 'M_2', 'B_4', 'TNK_22', 'M_1', 'B_5', 'TNK_1', 'TNK_2', 'M_10', 'M_14', 'TNK_14', 'TNK_24', 'TNK_16', 'M_pheno_var_k10_38'}\n"
     ]
    }
   ],
   "source": [
    "print('mapped pheno for annotations:', set(adata.obs['pheno_annotate']))"
   ]
  },
  {
   "cell_type": "code",
   "execution_count": 53,
   "id": "f89839df",
   "metadata": {},
   "outputs": [
    {
     "data": {
      "text/html": [
       "<div>\n",
       "<style scoped>\n",
       "    .dataframe tbody tr th:only-of-type {\n",
       "        vertical-align: middle;\n",
       "    }\n",
       "\n",
       "    .dataframe tbody tr th {\n",
       "        vertical-align: top;\n",
       "    }\n",
       "\n",
       "    .dataframe thead th {\n",
       "        text-align: right;\n",
       "    }\n",
       "</style>\n",
       "<table border=\"1\" class=\"dataframe\">\n",
       "  <thead>\n",
       "    <tr style=\"text-align: right;\">\n",
       "      <th></th>\n",
       "      <th>cluster</th>\n",
       "      <th>annotation</th>\n",
       "    </tr>\n",
       "    <tr>\n",
       "      <th>cell_ID</th>\n",
       "      <th></th>\n",
       "      <th></th>\n",
       "    </tr>\n",
       "  </thead>\n",
       "  <tbody>\n",
       "    <tr>\n",
       "      <th>236288388524979-T15</th>\n",
       "      <td>all_4</td>\n",
       "      <td>endothelial cell</td>\n",
       "    </tr>\n",
       "    <tr>\n",
       "      <th>196174352334259-N09</th>\n",
       "      <td>all_3</td>\n",
       "      <td>epithelial cell</td>\n",
       "    </tr>\n",
       "    <tr>\n",
       "      <th>227844233476963-T19</th>\n",
       "      <td>all_4</td>\n",
       "      <td>endothelial cell</td>\n",
       "    </tr>\n",
       "    <tr>\n",
       "      <th>235000971515614-T23</th>\n",
       "      <td>M_17</td>\n",
       "      <td>Mac</td>\n",
       "    </tr>\n",
       "    <tr>\n",
       "      <th>239932640480493-T23</th>\n",
       "      <td>TNK_11</td>\n",
       "      <td>CD4-T-naive</td>\n",
       "    </tr>\n",
       "    <tr>\n",
       "      <th>...</th>\n",
       "      <td>...</td>\n",
       "      <td>...</td>\n",
       "    </tr>\n",
       "    <tr>\n",
       "      <th>234992247389099-N08</th>\n",
       "      <td>all_7</td>\n",
       "      <td>endothelial cell</td>\n",
       "    </tr>\n",
       "    <tr>\n",
       "      <th>133854511090019-N02</th>\n",
       "      <td>all_26</td>\n",
       "      <td>fibroblast and myocytes</td>\n",
       "    </tr>\n",
       "    <tr>\n",
       "      <th>169014034020203-T11</th>\n",
       "      <td>M_2</td>\n",
       "      <td>Treg</td>\n",
       "    </tr>\n",
       "    <tr>\n",
       "      <th>126836650171619-N11</th>\n",
       "      <td>all_3</td>\n",
       "      <td>epithelial cell</td>\n",
       "    </tr>\n",
       "    <tr>\n",
       "      <th>129565717587827-T17</th>\n",
       "      <td>M_10</td>\n",
       "      <td>Mac</td>\n",
       "    </tr>\n",
       "  </tbody>\n",
       "</table>\n",
       "<p>152991 rows × 2 columns</p>\n",
       "</div>"
      ],
      "text/plain": [
       "                    cluster               annotation\n",
       "cell_ID                                             \n",
       "236288388524979-T15   all_4         endothelial cell\n",
       "196174352334259-N09   all_3          epithelial cell\n",
       "227844233476963-T19   all_4         endothelial cell\n",
       "235000971515614-T23    M_17                      Mac\n",
       "239932640480493-T23  TNK_11              CD4-T-naive\n",
       "...                     ...                      ...\n",
       "234992247389099-N08   all_7         endothelial cell\n",
       "133854511090019-N02  all_26  fibroblast and myocytes\n",
       "169014034020203-T11     M_2                     Treg\n",
       "126836650171619-N11   all_3          epithelial cell\n",
       "129565717587827-T17    M_10                      Mac\n",
       "\n",
       "[152991 rows x 2 columns]"
      ]
     },
     "execution_count": 53,
     "metadata": {},
     "output_type": "execute_result"
    }
   ],
   "source": [
    "annotation_df = adata.obs[['pheno_annotate_final','annotations_cytopus_final']]\n",
    "annotation_df.columns = ['cluster','annotation']\n",
    "annotation_df"
   ]
  },
  {
   "cell_type": "code",
   "execution_count": 56,
   "id": "5e6aa84c",
   "metadata": {},
   "outputs": [
    {
     "name": "stdout",
     "output_type": "stream",
     "text": [
      "saved to: /data/peer/wallet/Jupyter/PAAD-X-Peng_Sun-X-2019-X-10.1038s41422-019-0195-y-X-Jupyter/output_data/2021_PDAC_RT_Huber_Walle_raw_data_annotated_emptydrops_noribo_nomito_clustered_nodrops_doublets_nodoubs_libsize_log1p_clustered_10000hv_genes_curated_marker_genes_210216_reanalysis_forcytopus.h5ad\n"
     ]
    }
   ],
   "source": [
    "adata.write(adata_save_path)\n",
    "print('saved to:',adata_save_path)"
   ]
  },
  {
   "cell_type": "code",
   "execution_count": 57,
   "id": "3799727b",
   "metadata": {},
   "outputs": [
    {
     "name": "stdout",
     "output_type": "stream",
     "text": [
      "saved to: /data/peer/wallet/Jupyter/PAAD-X-Peng_Sun-X-2019-X-10.1038s41422-019-0195-y-X-Jupyter/output_data/PAAD-X-Peng_Sun-X-2019-X-10.1038s41422-019-0195_annotations.csv\n"
     ]
    }
   ],
   "source": [
    "annotation_df.to_csv(csv_save_path)\n",
    "print('saved to:',csv_save_path)"
   ]
  },
  {
   "cell_type": "code",
   "execution_count": null,
   "id": "fbc8ef5f",
   "metadata": {},
   "outputs": [],
   "source": []
  }
 ],
 "metadata": {
  "kernelspec": {
   "display_name": "Python 3 (ipykernel)",
   "language": "python",
   "name": "python3"
  },
  "language_info": {
   "codemirror_mode": {
    "name": "ipython",
    "version": 3
   },
   "file_extension": ".py",
   "mimetype": "text/x-python",
   "name": "python",
   "nbconvert_exporter": "python",
   "pygments_lexer": "ipython3",
   "version": "3.10.4"
  }
 },
 "nbformat": 4,
 "nbformat_minor": 5
}
