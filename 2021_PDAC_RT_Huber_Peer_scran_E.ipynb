{
 "cells": [
  {
   "cell_type": "markdown",
   "metadata": {},
   "source": [
    "# plug-in_scapy_scran"
   ]
  },
  {
   "cell_type": "code",
   "execution_count": 1,
   "metadata": {
    "ExecuteTime": {
     "end_time": "2020-04-10T14:59:57.822022Z",
     "start_time": "2020-04-10T14:59:57.819335Z"
    }
   },
   "outputs": [
    {
     "name": "stdout",
     "output_type": "stream",
     "text": [
      "Thomas Walle\n",
      "\n",
      "2021-02-04 17:47:28.670684\n"
     ]
    }
   ],
   "source": [
    "import datetime\n",
    "\n",
    "print(\"Thomas Walle\\n\")\n",
    "print(datetime.datetime.now())"
   ]
  },
  {
   "cell_type": "markdown",
   "metadata": {},
   "source": [
    "##### People involved\n"
   ]
  },
  {
   "cell_type": "markdown",
   "metadata": {},
   "source": [
    "- [Alejandro Jimenez-Sanchez](https://www.mskcc.org/research/ski/labs/members/alejandro-sanchez-01)\n",
    "- [Dana Pe'er](https://www.mskcc.org/research/ski/labs/dana-pe-er)"
   ]
  },
  {
   "cell_type": "markdown",
   "metadata": {},
   "source": [
    "### Aims of this script:\n",
    "<a id=\"aims\"></a>"
   ]
  },
  {
   "cell_type": "markdown",
   "metadata": {},
   "source": [
    "1. [Create input for scran from scanpy](#out) <font color=green>DONE</font>\n",
    "0. [Instructions to run scran](#sctransform) <font color=green>DONE</font>\n",
    "0. [Read-in scran output to scanpy](#in) <font color=green>DONE</font>"
   ]
  },
  {
   "cell_type": "markdown",
   "metadata": {},
   "source": [
    "### References\n"
   ]
  },
  {
   "cell_type": "markdown",
   "metadata": {},
   "source": [
    "- [Paper](https://genomebiology.biomedcentral.com/articles/10.1186/s13059-016-0947-7)\n",
    "- [GitHub](https://github.com/MarioniLab/scran)\n",
    "- [Package](https://bioconductor.org/packages/devel/bioc/html/scran.html)\n",
    "- [Tutorial_1](https://bioconductor.org/packages/devel/bioc/vignettes/scran_final/inst/doc/scran.html)\n",
    "- [Tutorial_2](https://alexslemonade.github.io/training-modules/scRNA-seq/01-normalizing_scRNA-seq.nb.html)"
   ]
  },
  {
   "cell_type": "code",
   "execution_count": 2,
   "metadata": {
    "ExecuteTime": {
     "end_time": "2020-04-10T15:00:01.576328Z",
     "start_time": "2020-04-10T15:00:01.570091Z"
    },
    "code_folding": [
     0
    ]
   },
   "outputs": [
    {
     "data": {
      "text/plain": [
       "'/home/wallet/miniconda3/envs/2020_run_scran/lib/python3.8'"
      ]
     },
     "execution_count": 2,
     "metadata": {},
     "output_type": "execute_result"
    }
   ],
   "source": [
    "# Which python\n",
    "import sys\n",
    "\n",
    "sys.path[2]"
   ]
  },
  {
   "cell_type": "markdown",
   "metadata": {},
   "source": [
    "## Packages"
   ]
  },
  {
   "cell_type": "code",
   "execution_count": 3,
   "metadata": {
    "ExecuteTime": {
     "end_time": "2020-04-10T16:32:52.846019Z",
     "start_time": "2020-04-10T16:32:52.840928Z"
    },
    "code_folding": [
     0
    ]
   },
   "outputs": [],
   "source": [
    "# Packages\n",
    "import scipy\n",
    "from scipy import io\n",
    "import warnings\n",
    "\n",
    "import numpy as np\n",
    "import pandas as pd\n",
    "import scanpy as sc\n",
    "import seaborn as sns\n",
    "import matplotlib.pyplot as plt\n",
    "\n",
    "from scipy import sparse\n",
    "from matplotlib import rcParams\n",
    "\n",
    "%matplotlib inline\n",
    "sns.set_style(\"white\")\n",
    "warnings.filterwarnings('ignore')"
   ]
  },
  {
   "cell_type": "markdown",
   "metadata": {
    "ExecuteTime": {
     "end_time": "2020-04-10T01:04:24.616212Z",
     "start_time": "2020-04-10T01:04:24.613407Z"
    }
   },
   "source": [
    "## Functions"
   ]
  },
  {
   "cell_type": "code",
   "execution_count": 4,
   "metadata": {
    "ExecuteTime": {
     "end_time": "2020-04-10T15:00:08.011647Z",
     "start_time": "2020-04-10T15:00:07.985655Z"
    },
    "code_folding": [
     0
    ]
   },
   "outputs": [],
   "source": [
    "# Functions\n",
    "\n",
    "# Count distribution\n",
    "def total_molecules_per_cell(adat, count=str):\n",
    "\n",
    "    # Plot distribution of total molecules per cell\n",
    "    a = adat.copy()\n",
    "\n",
    "    print(\"Median total count of UMI is:\", np.median(a.obs[count]))\n",
    "\n",
    "    # Per cell (Total molecules per cell)\n",
    "    fig, (ax1, ax2, ax3) = plt.subplots(nrows=3,\n",
    "                                        ncols=1,\n",
    "                                        sharex=True,\n",
    "                                        figsize=(15, 5))\n",
    "\n",
    "    a.obs[count][a.obs[count] != 0].plot(kind=\"hist\",\n",
    "                                         bins=100,\n",
    "                                         ax=ax1,\n",
    "                                         color=\"r\")\n",
    "    a.obs[count][a.obs[count] != 0].plot(kind=\"kde\", ax=ax2, color=\"r\")\n",
    "    a.obs[count][a.obs[count] != 0].plot(kind=\"box\",\n",
    "                                         vert=False,\n",
    "                                         ax=ax3,\n",
    "                                         color=\"r\")\n",
    "\n",
    "    x = ax3.set_xlabel(\"Molecule counts \"+ count +\" per cell\")\n",
    "\n",
    "    return None\n",
    "\n",
    "\n",
    "# Randomize cells for plotting UMAP\n",
    "def randomize_cells(anndata_object):\n",
    "\n",
    "    \"Randomize cells for plotting UMAP\"\n",
    "\n",
    "    index_list = np.arange(anndata_object.shape[0])\n",
    "    np.random.shuffle(index_list)\n",
    "    anndata_object = anndata_object[index_list]\n",
    "\n",
    "    return anndata_object\n",
    "\n",
    "\n",
    "# Percentage of variance explained\n",
    "def pcs_variance(annadata_object, var_explained):\n",
    "\n",
    "    for idx, var in enumerate(annadata_object.uns[\"pca\"][\"variance_ratio\"]):\n",
    "\n",
    "        var_exp = np.sum(annadata_object.uns[\"pca\"][\"variance_ratio\"][:idx])\n",
    "\n",
    "        if var_exp > var_explained:\n",
    "\n",
    "            return idx\n",
    "\n",
    "\n",
    "# Plot function\n",
    "def plot_cumsum(pc_var, pc, cumvar, color=\"r\"):\n",
    "    \n",
    "    plt.figure()\n",
    "    plt.plot(np.cumsum(pc_var), c=\"k\", zorder=0)\n",
    "    plt.scatter(pc, cumvar, c=color, zorder=1)\n",
    "    plt.xlabel('Number of Components')\n",
    "    plt.ylabel('Variance (%)')  #for each component\n",
    "    plt.title('Dataset Explained Variance')\n",
    "    plt.show()\n",
    "\n",
    "\n",
    "# kneepoint\n",
    "def kneepoint(vec, color=\"r\"):\n",
    "    curve = [1 - x for x in vec]\n",
    "    nPoints = len(curve)\n",
    "    allCoord = np.vstack((range(nPoints), curve)).T\n",
    "    np.array([range(nPoints), curve])\n",
    "    firstPoint = allCoord[0]\n",
    "    lineVec = allCoord[-1] - allCoord[0]\n",
    "    lineVecNorm = lineVec / np.sqrt(np.sum(lineVec**2))\n",
    "    vecFromFirst = allCoord - firstPoint\n",
    "    scalarProduct = np.sum(vecFromFirst *\n",
    "                           numpy.matlib.repmat(lineVecNorm, nPoints, 1),\n",
    "                           axis=1)\n",
    "    vecFromFirstParallel = np.outer(scalarProduct, lineVecNorm)\n",
    "    vecToLine = vecFromFirst - vecFromFirstParallel\n",
    "    distToLine = np.sqrt(np.sum(vecToLine**2, axis=1))\n",
    "    idxOfBestPoint = np.argmax(distToLine)\n",
    "\n",
    "    cumvar = np.cumsum(vec[:idxOfBestPoint + 1])[-1]\n",
    "\n",
    "    print(\"Kneepoint happens at PC:\")\n",
    "\n",
    "    print(\"PC\", idxOfBestPoint)\n",
    "\n",
    "    print(\"The cumulativate variation explaind is:\")\n",
    "\n",
    "    print(cumvar)\n",
    "\n",
    "    plot_cumsum(vec, idxOfBestPoint, cumvar, color)\n",
    "\n",
    "    return idxOfBestPoint\n",
    "\n",
    "\n",
    "# Treatment colors\n",
    "treatment_colors = [\"red\", \"green\", \"yellow\", \"blue\"]\n",
    "\n",
    "\n",
    "# Select PCs\n",
    "def select_pcs(adata_obj, color=\"r\"):\n",
    "\n",
    "    # Slope function\n",
    "    def slope(x1, y1, x2, y2):\n",
    "        return (y2 - y1) / (x2 - x1)\n",
    "\n",
    "    pc_v = adata_obj.uns[\"pca\"][\"variance_ratio\"]\n",
    "\n",
    "    max_slope = slope(1, np.cumsum(pc_v[0])[-1], 2, np.cumsum(pc_v[:2])[-1])\n",
    "\n",
    "    for i, v in enumerate(pc_v):\n",
    "\n",
    "        x1 = i\n",
    "        x2 = x1 + 1\n",
    "\n",
    "        if x1 == 0:\n",
    "            y1 = np.cumsum(pc_v[x1])[-1]\n",
    "        else:\n",
    "            y1 = np.cumsum(pc_v[:x1 + 1])[-1]\n",
    "\n",
    "        y2 = np.cumsum(pc_v[:x2 + 1])[-1]\n",
    "\n",
    "        s = slope(x1, y1, x2, y2)\n",
    "\n",
    "        if s <= max_slope / 10:\n",
    "\n",
    "            print(\"Change of slope no less than 1/10 of PC1 to PC2 is in:\")\n",
    "\n",
    "            print(\"PC\", x1)\n",
    "\n",
    "            print(\"The cumulativate variation explaind is:\")\n",
    "\n",
    "            print(y1)\n",
    "\n",
    "            break\n",
    "\n",
    "    plot_cumsum(pc_v, x1, y1, color)\n",
    "\n",
    "\n",
    "# Genes to potentially remove\n",
    "def genes_to_keep_remove(adata_obj):\n",
    "\n",
    "    # Ribosomal genes\n",
    "    riboL = [gene for gene in adata_obj.var.index if \"RPL\" == gene[0:3]]\n",
    "    riboS = [gene for gene in adata_obj.var.index if \"RPS\" == gene[0:3]]\n",
    "\n",
    "    ribo = list(set(riboL + riboS))\n",
    "\n",
    "    ribosomal_genes_df = pd.read_csv(\n",
    "        \"/home/ec2-user/software/gene_sets/qc/ribosomal_genes.csv\", sep=\",\")\n",
    "\n",
    "    ribos = ribo + list(ribosomal_genes_df[\"ribosomal_genes\"])\n",
    "\n",
    "    # Malat1\n",
    "    malat1 = [\"MALAT1\"]\n",
    "\n",
    "    # Mitochondrial genes\n",
    "    mitos = [gene for gene in adata_obj.var.index if \"MT-\" == gene[0:3]]\n",
    "    mito_ribos = [gene for gene in adata_obj.var.index if \"MRPL\" == gene[0:3]]\n",
    "\n",
    "    # Actin genes\n",
    "    actns = [gene for gene in adata_obj.var.index if \"ACTN\" == gene[0:4]]\n",
    "\n",
    "    remove_genes = {\n",
    "        \"malat1\": malat1,\n",
    "        \"mitos\": mitos,\n",
    "        \"mito_ribos\": mito_ribos,\n",
    "        \"actns\": actns,\n",
    "        \"ribos\": ribos\n",
    "    }\n",
    "\n",
    "    genes_to_remove = set()\n",
    "    for geneset in remove_genes.values():\n",
    "\n",
    "        genes_to_remove = genes_to_remove | set(geneset)\n",
    "\n",
    "    keep_genes = list(set(adata_obj.var.index) - genes_to_remove)\n",
    "\n",
    "    return (keep_genes, remove_genes)\n",
    "\n",
    "\n",
    "# 64 color palette\n",
    "godsnot_64 = [\n",
    "    # \"#000000\",  # remove the black, as often, we have black colored annotation\n",
    "    \"#FFFF00\",\n",
    "    \"#1CE6FF\",\n",
    "    \"#FF34FF\",\n",
    "    \"#FF4A46\",\n",
    "    \"#008941\",\n",
    "    \"#006FA6\",\n",
    "    \"#A30059\",\n",
    "    \"#FFDBE5\",\n",
    "    \"#7A4900\",\n",
    "    \"#0000A6\",\n",
    "    \"#63FFAC\",\n",
    "    \"#B79762\",\n",
    "    \"#004D43\",\n",
    "    \"#8FB0FF\",\n",
    "    \"#997D87\",\n",
    "    \"#5A0007\",\n",
    "    \"#809693\",\n",
    "    \"#6A3A4C\",\n",
    "    \"#1B4400\",\n",
    "    \"#4FC601\",\n",
    "    \"#3B5DFF\",\n",
    "    \"#4A3B53\",\n",
    "    \"#FF2F80\",\n",
    "    \"#61615A\",\n",
    "    \"#BA0900\",\n",
    "    \"#6B7900\",\n",
    "    \"#00C2A0\",\n",
    "    \"#FFAA92\",\n",
    "    \"#FF90C9\",\n",
    "    \"#B903AA\",\n",
    "    \"#D16100\",\n",
    "    \"#DDEFFF\",\n",
    "    \"#000035\",\n",
    "    \"#7B4F4B\",\n",
    "    \"#A1C299\",\n",
    "    \"#300018\",\n",
    "    \"#0AA6D8\",\n",
    "    \"#013349\",\n",
    "    \"#00846F\",\n",
    "    \"#372101\",\n",
    "    \"#FFB500\",\n",
    "    \"#C2FFED\",\n",
    "    \"#A079BF\",\n",
    "    \"#CC0744\",\n",
    "    \"#C0B9B2\",\n",
    "    \"#C2FF99\",\n",
    "    \"#001E09\",\n",
    "    \"#00489C\",\n",
    "    \"#6F0062\",\n",
    "    \"#0CBD66\",\n",
    "    \"#EEC3FF\",\n",
    "    \"#456D75\",\n",
    "    \"#B77B68\",\n",
    "    \"#7A87A1\",\n",
    "    \"#788D66\",\n",
    "    \"#885578\",\n",
    "    \"#FAD09F\",\n",
    "    \"#FF8A9A\",\n",
    "    \"#D157A0\",\n",
    "    \"#BEC459\",\n",
    "    \"#456648\",\n",
    "    \"#0086ED\",\n",
    "    \"#886F4C\",\n",
    "    \"#34362D\",\n",
    "    \"#B4A8BD\",\n",
    "    \"#00A6AA\",\n",
    "    \"#452C2C\",\n",
    "    \"#636375\",\n",
    "    \"#A3C8C9\",\n",
    "    \"#FF913F\",\n",
    "    \"#938A81\",\n",
    "    \"#575329\",\n",
    "    \"#00FECF\",\n",
    "    \"#B05B6F\",\n",
    "    \"#8CD0FF\",\n",
    "    \"#3B9700\",\n",
    "    \"#04F757\",\n",
    "    \"#C8A1A1\",\n",
    "    \"#1E6E00\",\n",
    "    \"#7900D7\",\n",
    "    \"#A77500\",\n",
    "    \"#6367A9\",\n",
    "    \"#A05837\",\n",
    "    \"#6B002C\",\n",
    "    \"#772600\",\n",
    "    \"#D790FF\",\n",
    "    \"#9B9700\",\n",
    "    \"#549E79\",\n",
    "    \"#FFF69F\",\n",
    "    \"#201625\",\n",
    "    \"#72418F\",\n",
    "    \"#BC23FF\",\n",
    "    \"#99ADC0\",\n",
    "    \"#3A2465\",\n",
    "    \"#922329\",\n",
    "    \"#5B4534\",\n",
    "    \"#FDE8DC\",\n",
    "    \"#404E55\",\n",
    "    \"#0089A3\",\n",
    "    \"#CB7E98\",\n",
    "    \"#A4E804\",\n",
    "    \"#324E72\"\n",
    "]"
   ]
  },
  {
   "cell_type": "markdown",
   "metadata": {},
   "source": [
    "## Load data\n"
   ]
  },
  {
   "cell_type": "code",
   "execution_count": 5,
   "metadata": {
    "ExecuteTime": {
     "end_time": "2020-04-10T15:00:15.167659Z",
     "start_time": "2020-04-10T15:00:14.830097Z"
    }
   },
   "outputs": [
    {
     "data": {
      "text/plain": [
       "(49260, 20761)"
      ]
     },
     "execution_count": 5,
     "metadata": {},
     "output_type": "execute_result"
    }
   ],
   "source": [
    "# Read raw adata\n",
    "PATH = '/data/peer/wallet/Jupyter/PAAD-X-Peng_Sun-X-2019-X-10.1038s41422-019-0195-y-X-Jupyter/data/'\n",
    "FILE = 'PAAD_Peng_Sun-X-10.1038s41422-019-0195-y-X-all_samples_raw_filtered_normalized_log1p_clustered_nodrop_nodub_removed_clustered_cnv_annotated_imputed_final_leukocytes.h5ad'\n",
    "#FILE_raw = 'pdac_cd45_celltype_id_v2_small.h5'\n",
    "adata = sc.read_h5ad(PATH + FILE)\n",
    "#adata_raw = sc.read(PATH+FILE_raw)\n",
    "samples_to_exclude = []\n",
    "adata.shape\n",
    "#adata_raw.shape"
   ]
  },
  {
   "cell_type": "markdown",
   "metadata": {},
   "source": [
    "## Dealing with negative size factors\n",
    "\n",
    "It is possible for the deconvolution algorithm to yield negative estimates for the size factors. These values are obviously nonsensical and `computeSumFactors` will raise a warning if they are encountered. Negative estimates are mostly commonly generated from low quality cells with few expressed features, such that most genes still have zero counts even after pooling. They may also occur if insufficient filtering of low-abundance genes was performed.\n",
    "\n",
    "To avoid negative size factors, the best solution is to increase the stringency of the filtering.\n",
    "\n",
    "If only a few negative size factors are present, they are likely to correspond to a few low-quality cells with few expressed features. Such cells are difficult to normalize reliably under any approach, and can be removed by increasing the stringency of the quality control.\n",
    "\n",
    "If many negative size factors are present, it is probably due to insufficient filtering of low-abundance genes. This results in many zero counts and pooled size factors of zero, and can be fixed by filtering out more genes with a higher `min.mean` - see “Gene selection” below.\n",
    "\n",
    "Another approach is to increase in the number of `sizes` to improve the precision of the estimates. This reduces the chance of obtaining negative size factors due to estimation error, for cells where the true size factors are very small.\n",
    "\n",
    "As a last resort, `positive=TRUE` is set by default, which uses `cleanSizeFactors` to coerce any negative estimates to positive values. This ensures that, at the very least, downstream analysis is possible even if the size factors for affected cells are not accurate. Users can skip this step by setting `positive=FALSE` to perform their own diagnostics or coercions.\n",
    "\n",
    "REF: https://rdrr.io/bioc/scran_final/man/computeSumFactors.html"
   ]
  },
  {
   "cell_type": "markdown",
   "metadata": {},
   "source": [
    "`scTranform` filters out genes that are expressed in no more than 5 cells by default. However, when applying `scran`, negative factors were present in data if the number of cells was limited to 5. By limiting the cells to 10, no negative factors were found. Thus, for consistency I remove genes that are expressed in no more than 10 cells. Similarly, `scanpy` tutorial suggests 3 cells as a threshold as a basic filter, but for the reasons mentioned above, I think 10 is a reasonable balance.\n",
    "\n",
    "REF: https://icb-scanpy-tutorials.readthedocs-hosted.com/en/latest/pbmc3k.html"
   ]
  },
  {
   "cell_type": "markdown",
   "metadata": {},
   "source": [
    "#define samples to normalize (if necessary)\n",
    "a_length=len(adata)\n",
    "print('length of original adata is', a_length)\n",
    "\n",
    "adata = adata[~adata.obs['sample_id'].isin(samples_to_exclude)]\n",
    "b_length=len(adata)\n",
    "print('length of filtered adata is', b_length)"
   ]
  },
  {
   "cell_type": "code",
   "execution_count": 6,
   "metadata": {
    "ExecuteTime": {
     "end_time": "2020-04-10T15:38:54.146933Z",
     "start_time": "2020-04-10T15:38:54.024303Z"
    }
   },
   "outputs": [
    {
     "data": {
      "text/plain": [
       "(49260, 18094)"
      ]
     },
     "execution_count": 6,
     "metadata": {},
     "output_type": "execute_result"
    }
   ],
   "source": [
    "### Remove genes expressed in less tha 10 cells\n",
    "sc.pp.filter_genes(adata, min_cells=10)\n",
    "\n",
    "adata.shape"
   ]
  },
  {
   "cell_type": "code",
   "execution_count": 7,
   "metadata": {},
   "outputs": [],
   "source": [
    "#make obs names unique\n",
    "#adata.obs_names_make_unique()"
   ]
  },
  {
   "cell_type": "code",
   "execution_count": 8,
   "metadata": {},
   "outputs": [],
   "source": [
    "#adata_raw.obs_names_make_unique()"
   ]
  },
  {
   "cell_type": "code",
   "execution_count": 9,
   "metadata": {},
   "outputs": [],
   "source": [
    "#add raw counts\n",
    "#adata_raw = adata_raw[adata.obs_names, adata.var_names]\n",
    "#adata_raw.obs = adata.obs"
   ]
  },
  {
   "cell_type": "code",
   "execution_count": 10,
   "metadata": {},
   "outputs": [],
   "source": [
    "#adata = adata_raw\n",
    "#del adata_raw\n",
    "#adata"
   ]
  },
  {
   "cell_type": "code",
   "execution_count": 11,
   "metadata": {},
   "outputs": [],
   "source": [
    "#add raw .X\n",
    "adata1 = adata.raw"
   ]
  },
  {
   "cell_type": "code",
   "execution_count": 12,
   "metadata": {},
   "outputs": [
    {
     "data": {
      "text/plain": [
       "AnnData object with n_obs × n_vars = 49260 × 18094\n",
       "    obs: 'batch', 'primary_tumor', 'Limited', 'PValue_emptydrops', 'FDR_emptydrops', 'total_molecules', 'n_genes', 'n_genes_by_counts', 'log1p_n_genes_by_counts', 'total_counts', 'log1p_total_counts', 'pct_counts_in_top_50_genes', 'pct_counts_in_top_100_genes', 'pct_counts_in_top_200_genes', 'pct_counts_in_top_500_genes', 'percent_mito', 'n_counts', 'pheno', 'true_cell', 'empty_droplet_sig', 'doublets', 'pheno_k10', 'score', 'score_ranks', 'low_score', 'high_score', 'normal_score_1', 'normal_score_2', 'normal_score', 'cell_status', 'CNV_inference', 'tumor_cell_cnv', 'pheno_k30', 'pheno_var_k10', 'pheno_var_k20', 'pheno_var_k30', 'pheno_var_k40', 'pheno_var_k50', 'pheno_var_k60', 'pheno_var_k70', 'pheno_var_k80', 'pheno_var_k90', 'pheno_var_k100', 'major_subsets'\n",
       "    var: 'n_cells', 'n_cells_by_counts', 'mean_counts', 'log1p_mean_counts', 'pct_dropout_by_counts', 'total_counts', 'log1p_total_counts', 'highly_variable', 'highly_variable_rank', 'means', 'variances', 'variances_norm'\n",
       "    uns: 'Limited_colors', 'batch_colors', 'doublets_colors', 'hvg', 'major_subsets_colors', 'neighbors', 'normal_score_1_colors', 'normal_score_2_colors', 'normal_score_colors', 'pca', 'pheno_colors', 'pheno_k10_colors', 'primary_tumor_colors', 'umap'\n",
       "    obsm: 'X_pca', 'X_tsne', 'X_umap'\n",
       "    varm: 'PCs'\n",
       "    layers: 'imputed', 'raw'\n",
       "    obsp: 'connectivities', 'distances'"
      ]
     },
     "execution_count": 12,
     "metadata": {},
     "output_type": "execute_result"
    }
   ],
   "source": [
    "adata"
   ]
  },
  {
   "cell_type": "code",
   "execution_count": 13,
   "metadata": {},
   "outputs": [],
   "source": [
    "#filter genes\n",
    "adata1 = adata1[adata.obs_names,adata.var_names]"
   ]
  },
  {
   "cell_type": "code",
   "execution_count": 14,
   "metadata": {},
   "outputs": [],
   "source": [
    "#add .X to adata\n",
    "adata1.obs = adata.obs"
   ]
  },
  {
   "cell_type": "code",
   "execution_count": 15,
   "metadata": {},
   "outputs": [],
   "source": [
    "adata.X = adata1.X"
   ]
  },
  {
   "cell_type": "code",
   "execution_count": 16,
   "metadata": {},
   "outputs": [
    {
     "name": "stdout",
     "output_type": "stream",
     "text": [
      "  (0, 486)\t1.0\n",
      "  (0, 15292)\t1.0\n",
      "  (0, 15984)\t1.0\n",
      "  (0, 8029)\t1.0\n",
      "  (0, 8548)\t1.0\n",
      "  (0, 6437)\t1.0\n",
      "  (0, 10203)\t1.0\n",
      "  (0, 17169)\t1.0\n",
      "  (0, 9881)\t1.0\n",
      "  (0, 6081)\t1.0\n",
      "  (0, 13107)\t1.0\n",
      "  (0, 12221)\t7.0\n",
      "  (0, 14878)\t1.0\n",
      "  (0, 2629)\t1.0\n",
      "  (0, 8299)\t1.0\n",
      "  (0, 7926)\t1.0\n",
      "  (0, 15908)\t1.0\n",
      "  (0, 13387)\t1.0\n",
      "  (0, 4153)\t1.0\n",
      "  (0, 13252)\t32.0\n",
      "  (0, 3794)\t1.0\n",
      "  (0, 14234)\t1.0\n",
      "  (0, 6257)\t5.0\n",
      "  (0, 1029)\t1.0\n",
      "  (0, 7038)\t2.0\n",
      "  :\t:\n",
      "  (49259, 15889)\t1.0\n",
      "  (49259, 16274)\t1.0\n",
      "  (49259, 12973)\t1.0\n",
      "  (49259, 10268)\t1.0\n",
      "  (49259, 10238)\t1.0\n",
      "  (49259, 3669)\t1.0\n",
      "  (49259, 13596)\t1.0\n",
      "  (49259, 16872)\t1.0\n",
      "  (49259, 16946)\t1.0\n",
      "  (49259, 17373)\t1.0\n",
      "  (49259, 6326)\t1.0\n",
      "  (49259, 3928)\t1.0\n",
      "  (49259, 3415)\t1.0\n",
      "  (49259, 14942)\t9.0\n",
      "  (49259, 11234)\t1.0\n",
      "  (49259, 11722)\t1.0\n",
      "  (49259, 3087)\t1.0\n",
      "  (49259, 9774)\t1.0\n",
      "  (49259, 5834)\t1.0\n",
      "  (49259, 17403)\t1.0\n",
      "  (49259, 3181)\t1.0\n",
      "  (49259, 16894)\t2.0\n",
      "  (49259, 12982)\t1.0\n",
      "  (49259, 4357)\t1.0\n",
      "  (49259, 13503)\t1.0\n"
     ]
    }
   ],
   "source": [
    "print(adata.X)"
   ]
  },
  {
   "cell_type": "markdown",
   "metadata": {},
   "source": [
    "## Prepare scran input files"
   ]
  },
  {
   "cell_type": "code",
   "execution_count": 17,
   "metadata": {
    "ExecuteTime": {
     "end_time": "2020-04-10T16:30:17.244660Z",
     "start_time": "2020-04-10T16:30:17.217220Z"
    }
   },
   "outputs": [],
   "source": [
    "# Calculate total molecules per cell\n",
    "adata1 = adata.copy()"
   ]
  },
  {
   "cell_type": "code",
   "execution_count": 18,
   "metadata": {
    "ExecuteTime": {
     "end_time": "2020-04-10T16:30:26.708552Z",
     "start_time": "2020-04-10T16:30:26.488598Z"
    },
    "code_folding": [
     0
    ]
   },
   "outputs": [],
   "source": [
    "### QC metrics\n",
    "sc.pp.calculate_qc_metrics(\n",
    "    adata1,\n",
    "    expr_type=\"counts\",\n",
    "    var_type=\"genes\",\n",
    "    inplace=True\n",
    ")"
   ]
  },
  {
   "cell_type": "code",
   "execution_count": 19,
   "metadata": {
    "ExecuteTime": {
     "end_time": "2020-04-10T16:30:43.711855Z",
     "start_time": "2020-04-10T16:30:42.856552Z"
    }
   },
   "outputs": [
    {
     "name": "stdout",
     "output_type": "stream",
     "text": [
      "Median total count of UMI is: 1082.0\n"
     ]
    },
    {
     "data": {
      "image/png": "[encoded data removed]",
      "text/plain": [
       "<Figure size 1080x360 with 3 Axes>"
      ]
     },
     "metadata": {},
     "output_type": "display_data"
    }
   ],
   "source": [
    "total_molecules_per_cell(adata1, count=\"total_counts\")"
   ]
  },
  {
   "cell_type": "markdown",
   "metadata": {},
   "source": [
    "### Sparse gene matrix\n"
   ]
  },
  {
   "cell_type": "code",
   "execution_count": 20,
   "metadata": {
    "ExecuteTime": {
     "end_time": "2020-04-10T16:31:26.108833Z",
     "start_time": "2020-04-10T16:31:25.794298Z"
    }
   },
   "outputs": [
    {
     "data": {
      "text/plain": [
       "<49260x18094 sparse matrix of type '<class 'numpy.float32'>'\n",
       "\twith 41822079 stored elements in Compressed Sparse Row format>"
      ]
     },
     "execution_count": 20,
     "metadata": {},
     "output_type": "execute_result"
    }
   ],
   "source": [
    "mtx_file = sparse.csr_matrix(adata1.X)\n",
    "\n",
    "mtx_file"
   ]
  },
  {
   "cell_type": "code",
   "execution_count": 21,
   "metadata": {
    "ExecuteTime": {
     "end_time": "2020-04-10T16:31:55.732090Z",
     "start_time": "2020-04-10T16:31:55.614876Z"
    }
   },
   "outputs": [],
   "source": [
    "!ls /data/peer/wallet/Jupyter/PAAD-X-Peng_Sun-X-2019-X-10.1038s41422-019-0195-y-X-Jupyter/scran_final/input/"
   ]
  },
  {
   "cell_type": "code",
   "execution_count": 22,
   "metadata": {},
   "outputs": [],
   "source": [
    "# Write sparse matrix\n",
    "PATH = \"/data/peer/wallet/Jupyter/PAAD-X-Peng_Sun-X-2019-X-10.1038s41422-019-0195-y-X-Jupyter/scran_final/\"\n",
    "PATH += \"input/\"\n",
    "FILE = \"combo_fixed_counts_v1.mtx\"\n",
    "\n",
    "scipy.io.mmwrite(PATH + FILE, mtx_file)"
   ]
  },
  {
   "cell_type": "markdown",
   "metadata": {},
   "source": [
    "### Gene names"
   ]
  },
  {
   "cell_type": "code",
   "execution_count": 23,
   "metadata": {
    "ExecuteTime": {
     "end_time": "2020-04-10T16:32:56.521777Z",
     "start_time": "2020-04-10T16:32:56.516194Z"
    }
   },
   "outputs": [
    {
     "data": {
      "text/plain": [
       "0               MAGI1\n",
       "1              MAP2K5\n",
       "2                ACCS\n",
       "3                NINL\n",
       "4               ACKR3\n",
       "             ...     \n",
       "18089          AMDHD2\n",
       "18090           GPAT4\n",
       "18091    RP11-108M9.6\n",
       "18092           ABHD1\n",
       "18093           MICU3\n",
       "Length: 18094, dtype: object"
      ]
     },
     "execution_count": 23,
     "metadata": {},
     "output_type": "execute_result"
    }
   ],
   "source": [
    "g_file = pd.Series(adata1.var_names)\n",
    "\n",
    "g_file"
   ]
  },
  {
   "cell_type": "code",
   "execution_count": 24,
   "metadata": {},
   "outputs": [],
   "source": [
    "# Write gene names\n",
    "PATH = \"/data/peer/wallet/Jupyter/PAAD-X-Peng_Sun-X-2019-X-10.1038s41422-019-0195-y-X-Jupyter/scran_final/\"\n",
    "PATH += \"input/\"\n",
    "FILE = \"genes.csv\"\n",
    "\n",
    "g_file.to_csv(PATH + FILE, index=False, header=False)"
   ]
  },
  {
   "cell_type": "markdown",
   "metadata": {},
   "source": [
    "### Cell names"
   ]
  },
  {
   "cell_type": "code",
   "execution_count": 25,
   "metadata": {
    "ExecuteTime": {
     "end_time": "2020-04-10T16:33:34.915287Z",
     "start_time": "2020-04-10T16:33:34.911705Z"
    }
   },
   "outputs": [
    {
     "data": {
      "text/plain": [
       "Index(['195967088802035-N07', '236170007923556-T24', '240498383632629-T15',\n",
       "       '126218833450923-T22', '241106375297437-T07', '169768861710262-T15',\n",
       "       '239408788720363-T03', '170265199462821-T22', '230807875472627-T16',\n",
       "       '231760552999643-T18',\n",
       "       ...\n",
       "       '169082591500651-T23', '227930503854323-T17', '197135466130164-T11',\n",
       "       '227973439110443-T22', '204213438798052-T23', '135081900296109-T06',\n",
       "       '226205971107227-T09', '195426056846124-T08', '166351441357222-T11',\n",
       "       '164753413659372-T02'],\n",
       "      dtype='object', name='cell_ID', length=49260)"
      ]
     },
     "execution_count": 25,
     "metadata": {},
     "output_type": "execute_result"
    }
   ],
   "source": [
    "adata1.obs_names"
   ]
  },
  {
   "cell_type": "code",
   "execution_count": 26,
   "metadata": {
    "ExecuteTime": {
     "end_time": "2020-04-10T16:33:46.368004Z",
     "start_time": "2020-04-10T16:33:46.363225Z"
    }
   },
   "outputs": [
    {
     "data": {
      "text/plain": [
       "0        195967088802035-N07\n",
       "1        236170007923556-T24\n",
       "2        240498383632629-T15\n",
       "3        126218833450923-T22\n",
       "4        241106375297437-T07\n",
       "                ...         \n",
       "49255    135081900296109-T06\n",
       "49256    226205971107227-T09\n",
       "49257    195426056846124-T08\n",
       "49258    166351441357222-T11\n",
       "49259    164753413659372-T02\n",
       "Name: cell_ID, Length: 49260, dtype: object"
      ]
     },
     "execution_count": 26,
     "metadata": {},
     "output_type": "execute_result"
    }
   ],
   "source": [
    "bc_file = pd.Series(adata1.obs_names)\n",
    "\n",
    "bc_file"
   ]
  },
  {
   "cell_type": "code",
   "execution_count": 27,
   "metadata": {},
   "outputs": [],
   "source": [
    "# Write gene names\n",
    "PATH = \"/data/peer/wallet/Jupyter/PAAD-X-Peng_Sun-X-2019-X-10.1038s41422-019-0195-y-X-Jupyter/scran_final/\"\n",
    "PATH += \"input/\"\n",
    "FILE = \"cells.csv\"\n",
    "\n",
    "bc_file.to_csv(PATH + FILE, index=False, header=False)"
   ]
  },
  {
   "cell_type": "markdown",
   "metadata": {},
   "source": [
    "## Run scran\n"
   ]
  },
  {
   "cell_type": "markdown",
   "metadata": {},
   "source": [
    "On the terminal do:"
   ]
  },
  {
   "cell_type": "markdown",
   "metadata": {
    "ExecuteTime": {
     "end_time": "2020-04-10T16:35:25.353142Z",
     "start_time": "2020-04-10T16:35:25.348887Z"
    }
   },
   "source": [
    "```\n",
    "PATH_I=/home/thomas/Jupyter/PDAC_dev_Lowe_v2/scran_final/input/\n",
    "PATH_O=/home/thomas/Jupyter/PDAC_dev_Lowe_v2/scran_final/input/output/\n",
    "PATH_T=/home/thomas/Jupyter/scToolKitDev/normalization/scran_final/1.Scripts/\n",
    "\n",
    "m_file=combo_fixed_counts_v1.mtx\n",
    "g_file=genes.csv\n",
    "bc_file=cells.csv\n",
    "ofile=sct_combo_fixed_counts_v1.csv\n",
    "tfile=run_scran.R\n",
    "\n",
    "Rscript $PATH_T$tfile $PATH_I$m_file $PATH_I$g_file $PATH_I$bc_file $PATH_O$ofile\n",
    "```"
   ]
  },
  {
   "cell_type": "markdown",
   "metadata": {},
   "source": [
    "## Load scran output\n"
   ]
  },
  {
   "cell_type": "code",
   "execution_count": 6,
   "metadata": {
    "ExecuteTime": {
     "end_time": "2020-04-10T16:37:58.722752Z",
     "start_time": "2020-04-10T16:37:57.863995Z"
    }
   },
   "outputs": [],
   "source": [
    "import anndata2ri\n",
    "\n",
    "anndata2ri.activate()\n",
    "\n",
    "%load_ext rpy2.ipython"
   ]
  },
  {
   "cell_type": "code",
   "execution_count": 7,
   "metadata": {
    "ExecuteTime": {
     "end_time": "2020-04-10T16:39:39.487132Z",
     "start_time": "2020-04-10T16:39:39.364686Z"
    }
   },
   "outputs": [
    {
     "name": "stdout",
     "output_type": "stream",
     "text": [
      "sct_combo_fixed_counts_v1.csv  sct_combo_fixed_counts_v1.rds\r\n"
     ]
    }
   ],
   "source": [
    "!ls /data/peer/wallet/Jupyter/PAAD-X-Peng_Sun-X-2019-X-10.1038s41422-019-0195-y-X-Jupyter/scran_final/output/"
   ]
  },
  {
   "cell_type": "markdown",
   "metadata": {},
   "source": [
    "Install following R packages only first time"
   ]
  },
  {
   "cell_type": "code",
   "execution_count": 8,
   "metadata": {
    "ExecuteTime": {
     "end_time": "2020-04-10T16:50:38.402986Z",
     "start_time": "2020-04-10T16:50:38.395640Z"
    }
   },
   "outputs": [],
   "source": [
    "#%%R\n",
    "\n",
    "#paste(\"R\", \"T\", sep = \"\")"
   ]
  },
  {
   "cell_type": "code",
   "execution_count": 9,
   "metadata": {},
   "outputs": [],
   "source": [
    "#%%R\n",
    "\n",
    "#BiocManager::install(\"S4Vectors\")\n",
    "#BiocManager::install(\"SummarizedExperiment\")\n",
    "#BiocManager::install(\"SingleCellExperiment\")"
   ]
  },
  {
   "cell_type": "code",
   "execution_count": 10,
   "metadata": {
    "ExecuteTime": {
     "end_time": "2020-04-10T16:55:09.106054Z",
     "start_time": "2020-04-10T16:55:00.366063Z"
    }
   },
   "outputs": [
    {
     "name": "stdout",
     "output_type": "stream",
     "text": [
      "class: SingleCellExperiment \n",
      "dim: 18094 49220 \n",
      "metadata(0):\n",
      "assays(2): X logcounts\n",
      "rownames(18094): MAGI1 MAP2K5 ... ABHD1 MICU3\n",
      "rowData names(1): value\n",
      "colnames(49220): 195967088802035-N07 236170007923556-T24 ...\n",
      "  166351441357222-T11 164753413659372-T02\n",
      "colData names(0):\n",
      "reducedDimNames(0):\n",
      "spikeNames(0):\n",
      "altExpNames(0):\n"
     ]
    }
   ],
   "source": [
    "%%R -o scr_matrix\n",
    "\n",
    "library(Matrix)\n",
    "\n",
    "PATH1 <- \"/data/peer/wallet/Jupyter/PAAD-X-Peng_Sun-X-2019-X-10.1038s41422-019-0195-y-X-Jupyter/\"\n",
    "PATH2 <- \"scran_final/output/\"\n",
    "\n",
    "PATH <- paste(PATH1, PATH2, sep = \"\")\n",
    "\n",
    "FILE <- \"sct_combo_fixed_counts_v1.rds\"\n",
    "\n",
    "FILE <- paste(PATH, FILE, sep = \"\")\n",
    "\n",
    "scr_matrix <- readRDS(FILE)\n",
    "\n",
    "scr_matrix <- as(scr_matrix, 'SingleCellExperiment')\n",
    "\n",
    "scr_matrix"
   ]
  },
  {
   "cell_type": "code",
   "execution_count": 11,
   "metadata": {
    "ExecuteTime": {
     "end_time": "2020-04-10T16:55:39.308901Z",
     "start_time": "2020-04-10T16:55:39.304345Z"
    }
   },
   "outputs": [
    {
     "data": {
      "text/plain": [
       "array([[0., 0., 0., ..., 0., 0., 0.],\n",
       "       [0., 0., 0., ..., 0., 0., 0.],\n",
       "       [0., 0., 0., ..., 0., 0., 0.],\n",
       "       ...,\n",
       "       [0., 0., 0., ..., 0., 0., 0.],\n",
       "       [0., 0., 0., ..., 0., 0., 0.],\n",
       "       [0., 0., 0., ..., 0., 0., 0.]])"
      ]
     },
     "execution_count": 11,
     "metadata": {},
     "output_type": "execute_result"
    }
   ],
   "source": [
    "# Add log counts from scran\n",
    "scr_matrix.X = scr_matrix.layers[\"logcounts\"]\n",
    "\n",
    "scr_matrix.X"
   ]
  },
  {
   "cell_type": "code",
   "execution_count": 12,
   "metadata": {
    "ExecuteTime": {
     "end_time": "2020-04-10T16:56:13.423235Z",
     "start_time": "2020-04-10T16:56:13.328419Z"
    }
   },
   "outputs": [
    {
     "data": {
      "text/plain": [
       "AnnData object with n_obs × n_vars = 49220 × 18094"
      ]
     },
     "execution_count": 12,
     "metadata": {},
     "output_type": "execute_result"
    }
   ],
   "source": [
    "adata1scr = sc.AnnData(X=np.array(scr_matrix.X),\n",
    "                       obs={'obs_names': scr_matrix.obs_names},\n",
    "                       var={'var_names': scr_matrix.var_names})\n",
    "\n",
    "adata1scr"
   ]
  },
  {
   "cell_type": "code",
   "execution_count": 13,
   "metadata": {
    "ExecuteTime": {
     "end_time": "2020-04-10T16:56:28.989169Z",
     "start_time": "2020-04-10T16:56:28.772346Z"
    }
   },
   "outputs": [],
   "source": [
    "### QC metrics\n",
    "sc.pp.calculate_qc_metrics(adata1scr,\n",
    "                           expr_type=\"counts\",\n",
    "                           var_type=\"genes\",\n",
    "                           inplace=True)"
   ]
  },
  {
   "cell_type": "code",
   "execution_count": 14,
   "metadata": {
    "ExecuteTime": {
     "end_time": "2020-04-10T16:56:38.855895Z",
     "start_time": "2020-04-10T16:56:38.818688Z"
    }
   },
   "outputs": [],
   "source": [
    "a = adata1scr.copy()"
   ]
  },
  {
   "cell_type": "code",
   "execution_count": 15,
   "metadata": {
    "ExecuteTime": {
     "end_time": "2020-04-10T16:56:51.457580Z",
     "start_time": "2020-04-10T16:56:50.688792Z"
    }
   },
   "outputs": [
    {
     "name": "stdout",
     "output_type": "stream",
     "text": [
      "Median total count of UMI is: 1029.676\n"
     ]
    },
    {
     "data": {
      "image/png": "[encoded data removed]",
      "text/plain": [
       "<Figure size 1080x360 with 3 Axes>"
      ]
     },
     "metadata": {},
     "output_type": "display_data"
    }
   ],
   "source": [
    "total_molecules_per_cell(a, count=\"total_counts\")"
   ]
  },
  {
   "cell_type": "code",
   "execution_count": 16,
   "metadata": {
    "ExecuteTime": {
     "end_time": "2020-04-10T16:57:51.853961Z",
     "start_time": "2020-04-10T16:57:51.710068Z"
    }
   },
   "outputs": [
    {
     "name": "stdout",
     "output_type": "stream",
     "text": [
      "sct_combo_fixed_counts_v1.csv  sct_combo_fixed_counts_v1.rds\r\n"
     ]
    }
   ],
   "source": [
    "!ls /data/peer/wallet/Jupyter/PAAD-X-Peng_Sun-X-2019-X-10.1038s41422-019-0195-y-X-Jupyter/scran_final/output/"
   ]
  },
  {
   "cell_type": "code",
   "execution_count": 17,
   "metadata": {},
   "outputs": [],
   "source": [
    "### Save\n",
    "PATH = \"/data/peer/wallet/Jupyter/PAAD-X-Peng_Sun-X-2019-X-10.1038s41422-019-0195-y-X-Jupyter/scran_final/output/\"\n",
    "FILE = \"PAAD-X-Peng_Sun-X-2019-X-10.1038s41422-019-0195-y-X-Jupyter-X-leukocytes_scran_final.h5ad\"\n",
    "\n",
    "adata1scr.write(PATH + FILE)"
   ]
  },
  {
   "cell_type": "markdown",
   "metadata": {},
   "source": [
    "# End"
   ]
  },
  {
   "cell_type": "code",
   "execution_count": null,
   "metadata": {},
   "outputs": [],
   "source": [
    "\"/data/peer/wallet/Jupyter/PAAD-X-Peng_Sun-X-2019-X-10.1038s41422-019-0195-y-X-Jupyter/scran_final/output/PAAD-X-Peng_Sun-X-2019-X-10.1038s41422-019-0195-y-X-Jupyter-X-leukocytes_scran_final.h5ad\""
   ]
  }
 ],
 "metadata": {
  "hide_input": false,
  "kernelspec": {
   "display_name": "Python 3",
   "language": "python",
   "name": "python3"
  },
  "language_info": {
   "codemirror_mode": {
    "name": "ipython",
    "version": 3
   },
   "file_extension": ".py",
   "mimetype": "text/x-python",
   "name": "python",
   "nbconvert_exporter": "python",
   "pygments_lexer": "ipython3",
   "version": "3.8.1"
  },
  "toc": {
   "base_numbering": 1,
   "nav_menu": {},
   "number_sections": true,
   "sideBar": true,
   "skip_h1_title": false,
   "title_cell": "Table of Contents",
   "title_sidebar": "Contents",
   "toc_cell": false,
   "toc_position": {},
   "toc_section_display": true,
   "toc_window_display": true
  },
  "varInspector": {
   "cols": {
    "lenName": 16,
    "lenType": 16,
    "lenVar": 40
   },
   "kernels_config": {
    "python": {
     "delete_cmd_postfix": "",
     "delete_cmd_prefix": "del ",
     "library": "var_list.py",
     "varRefreshCmd": "print(var_dic_list())"
    },
    "r": {
     "delete_cmd_postfix": ") ",
     "delete_cmd_prefix": "rm(",
     "library": "var_list.r",
     "varRefreshCmd": "cat(var_dic_list()) "
    }
   },
   "types_to_exclude": [
    "module",
    "function",
    "builtin_function_or_method",
    "instance",
    "_Feature"
   ],
   "window_display": false
  }
 },
 "nbformat": 4,
 "nbformat_minor": 2
}
